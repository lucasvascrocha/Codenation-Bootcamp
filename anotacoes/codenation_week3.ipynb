{
  "nbformat": 4,
  "nbformat_minor": 0,
  "metadata": {
    "colab": {
      "name": "codenation_week3.ipynb",
      "provenance": []
    },
    "kernelspec": {
      "name": "python3",
      "display_name": "Python 3"
    }
  },
  "cells": [
    {
      "cell_type": "markdown",
      "metadata": {
        "id": "IG-B-1Orf-X7",
        "colab_type": "text"
      },
      "source": [
        "# Codenation 3 Semana - Análise Exploratória de Dados\n"
      ]
    },
    {
      "cell_type": "markdown",
      "metadata": {
        "id": "yUZ_ie3ghCfU",
        "colab_type": "text"
      },
      "source": [
        "# Análise Exploratória de Dados - Introdução\n",
        "\n",
        "  * É um processo vital a todo modelo de Machine Learning.\n",
        "\n",
        "  * EDA é \"Procedimentos para analisar dados, técnicas para interpretar os resultados de tais procedimentos, formas de planejar a reunião dos dados para tornar sua análise mais fácil, mais precisa ou mais exata e toda a maquinaria e os resultados da estatística ( Matématica ) que se aplicam a análise de dados.\"\n",
        "\n",
        "  * Sugerir hipóteses sobre as causas dos fenômenos observados;\n",
        "\n",
        "  * Avaliar presuspostos sobre os quais a inferência estátistica se baseará;\n",
        "\n",
        "  * Apoiar a seleção de ferramentas e técnicas estatísticas apropriadas;\n",
        "\n",
        "  * Oferecer uma base de coleta posterior de dados por meio de pesquisas e experimentos; \n"
      ]
    },
    {
      "cell_type": "markdown",
      "metadata": {
        "id": "l1oil6E_jBvJ",
        "colab_type": "text"
      },
      "source": [
        "## Estatistica Descritiva Univariada\n",
        "\n"
      ]
    },
    {
      "cell_type": "markdown",
      "metadata": {
        "id": "tkVtg9qI2xJo",
        "colab_type": "text"
      },
      "source": [
        "* Média ( Mean / Average ):\n",
        "\n",
        "  * Ponto central de um conjunto de informações definido pela somatória das informações de um conjunto dividido pela quantidade de informações;\n",
        "  * M = SUM(valores) / COUNT(valores)\n",
        "\n",
        "    ![alt text](data:image/png;base64,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)\n",
        "\n",
        "\n",
        "* Mediana (Median):\n",
        "\n",
        "  * Valor que serapa a metade das informações em **2 conjuntos de quantidade iguais.**\n",
        "\n",
        "  * Para conjuntos de quantidade par, é a **média** dos 2 valores centrais.\n",
        "\n",
        "  ![alt text](https://www.onlinemathlearning.com/image-files/xmedian.png.pagespeed.ic.IbKdiN29Yk.png)"
      ]
    },
    {
      "cell_type": "code",
      "metadata": {
        "id": "EXJk8LdPkeIF",
        "colab_type": "code",
        "outputId": "3e305d41-65d8-421b-951e-6d09ebc15999",
        "colab": {
          "base_uri": "https://localhost:8080/",
          "height": 54
        }
      },
      "source": [
        "import numpy as np\n",
        "l1 = [1,3,3,6,7,8,9]\n",
        "l2 = [1,2,3,4,5,6,8,9]\n",
        "\n",
        "print(f'A mediana da lista 1 é {np.median(l1)}')\n",
        "print(f'A mediana da lista 2 é {np.median(l2)}')\n"
      ],
      "execution_count": 0,
      "outputs": [
        {
          "output_type": "stream",
          "text": [
            "A mediana da lista 1 é 6.0\n",
            "A mediana da lista 2 é 4.5\n"
          ],
          "name": "stdout"
        }
      ]
    },
    {
      "cell_type": "markdown",
      "metadata": {
        "id": "Su0bDO4Ck6Er",
        "colab_type": "text"
      },
      "source": [
        "* Quartis e Percentis:\n",
        "\n",
        "  * Quartis:\n",
        "\n",
        "    * Divide os dados em 4 conjuntos de dados;\n",
        "    * 25% em cada conjunto\n",
        "\n",
        "  * Percentis:\n",
        "    * Divide os dados em 100 partes do todo\n",
        "    * 1% acumulado em cada segmento\n",
        "\n",
        "  * Amplitude Interquartil (IQR)\n",
        "\n",
        "    * 50% central dos valores quando ordenados do menor para o maior\n",
        "\n",
        "      * Encontra-se a mediana ( valor central ) de **da menor e da maior metade dos dados**.\n",
        "      * São o **quartil 1 (Q1) e o quartil 3 (Q3)**. A amplitude interquartil interquartil é a diferença entre Q3 e Q1.\n",
        "      "
      ]
    },
    {
      "cell_type": "markdown",
      "metadata": {
        "id": "SBnk8_LTnJd3",
        "colab_type": "text"
      },
      "source": [
        " * Desvio Padrão ( Standard Deviation - std):\n",
        "\n",
        "  * Medida que expressa o grau de dispersão de um conjunto de dados.\n",
        "  * Indica quanto um conjunto de dados é uniforme;\n",
        "  * Quanto mais próximo de 0 for o desvio padrão, mais homogêneo são os dados.\n",
        "\n",
        "  ![Desvio Padrão](https://images.educamaisbrasil.com.br/content/banco_de_imagens/guia-de-estudo/D/desvio-padrao-matematica.jpg)\n",
        "  "
      ]
    },
    {
      "cell_type": "code",
      "metadata": {
        "id": "18yMU23lnutt",
        "colab_type": "code",
        "outputId": "8db78ff2-217b-4db8-fb2b-dd6b6a0fad34",
        "colab": {
          "base_uri": "https://localhost:8080/",
          "height": 35
        }
      },
      "source": [
        "alturas = [1.55, 1.70, 1.80]\n",
        "media_alturas = np.mean(alturas)\n",
        "print(f'A média das alturas é : {media_alturas:.2f}cm')\n"
      ],
      "execution_count": 0,
      "outputs": [
        {
          "output_type": "stream",
          "text": [
            "A média das alturas é : 1.68cm\n"
          ],
          "name": "stdout"
        }
      ]
    },
    {
      "cell_type": "code",
      "metadata": {
        "id": "kEvqo3Uzt-lu",
        "colab_type": "code",
        "outputId": "156d8cc2-f3a7-4b21-86ca-1497c407adcb",
        "colab": {
          "base_uri": "https://localhost:8080/",
          "height": 72
        }
      },
      "source": [
        "diferenca_media_valor = []\n",
        "def calcula_diferenca_media_valor(val, media):\n",
        "  for value in val:\n",
        "    diff = value - media\n",
        "    diferenca_media_valor.append(diff)\n",
        "    print(f'A diferença entre o valor de cada altura e a média das alturas é {diff:.2f}')\n",
        "\n",
        "calcula_diferenca_media_valor(alturas, media_alturas)"
      ],
      "execution_count": 0,
      "outputs": [
        {
          "output_type": "stream",
          "text": [
            "A diferença entre o valor de cada altura e a média das alturas é -0.13\n",
            "A diferença entre o valor de cada altura e a média das alturas é 0.02\n",
            "A diferença entre o valor de cada altura e a média das alturas é 0.12\n"
          ],
          "name": "stdout"
        }
      ]
    },
    {
      "cell_type": "code",
      "metadata": {
        "id": "zlnhQ1r8t_ZN",
        "colab_type": "code",
        "outputId": "7772ccfe-0fad-4a04-db11-941d4f1b2194",
        "colab": {
          "base_uri": "https://localhost:8080/",
          "height": 72
        }
      },
      "source": [
        "diferenca_media = []\n",
        "def altura_media_quadrado(lista):\n",
        "  for value in lista:\n",
        "    v = value ** 2\n",
        "    diferenca_media.append(v)\n",
        "    print(f'A diferença entre a altura e a média ao quadrado é {v:.4f}')\n",
        "\n",
        "altura_media_quadrado(diferenca_media_valor)"
      ],
      "execution_count": 0,
      "outputs": [
        {
          "output_type": "stream",
          "text": [
            "A diferença entre a altura e a média ao quadrado é 0.0178\n",
            "A diferença entre a altura e a média ao quadrado é 0.0003\n",
            "A diferença entre a altura e a média ao quadrado é 0.0136\n"
          ],
          "name": "stdout"
        }
      ]
    },
    {
      "cell_type": "code",
      "metadata": {
        "id": "AzaKAQZJvH98",
        "colab_type": "code",
        "outputId": "6fb2b65a-8f5e-4f09-a808-f599aba8f67e",
        "colab": {
          "base_uri": "https://localhost:8080/",
          "height": 35
        }
      },
      "source": [
        "tamanho_alturas = len(alturas)\n",
        "\n",
        "def calcula_dp(diferenca_valores, tamanho):\n",
        "  soma = np.sum(diferenca_valores)\n",
        "  div = soma / tamanho_alturas\n",
        "  dp = np.sqrt(div)\n",
        "  print(f'O desvio padrão é : {dp:.3f}')\n",
        "\n",
        "calcula_dp(diferenca_media, tamanho_alturas)\n"
      ],
      "execution_count": 0,
      "outputs": [
        {
          "output_type": "stream",
          "text": [
            "O desvio padrão é : 0.103\n"
          ],
          "name": "stdout"
        }
      ]
    },
    {
      "cell_type": "markdown",
      "metadata": {
        "id": "aKYAuGOgz6Le",
        "colab_type": "text"
      },
      "source": [
        " * Assimetria (skewness):\n",
        "\n",
        "  * É o grau de distorção da curva simétrica a distribuição normal;\n",
        "  * Ele mede a falta de simetria na distribuição de dados;\n",
        "  * Diferencia valores extremos em uma cauda versus a outra;\n",
        "  * Uma distribuição simétrica terá uma assimetria de 0.\n",
        "\n",
        "\n",
        "![](https://i1.wp.com/alevelmaths.co.uk/wp-content/uploads/2019/02/Skewness_1.png?w=761&ssl=1)\n",
        "\n"
      ]
    },
    {
      "cell_type": "markdown",
      "metadata": {
        "id": "Gpxbt2mt1RWE",
        "colab_type": "text"
      },
      "source": [
        "* Curtose (Kurtosis)\n",
        "\n",
        "  * Curtose é uma medida de dispersão que caracteriza o \"achatamento\" da curva da função de distribuição\n",
        "  ![alt text](https://100cia.site/media/k2/items/cache/9e5650277c2aeaaf90f9ac772c2f3889_M.jpg)\n",
        "\n",
        "  * Mesócurticas (0):\n",
        "    * Achatamento da distribuição normal;\n",
        "\n",
        "  * Leptocúrtica ( > 0):\n",
        "     * Possui a curva da função de distribuição mais afunilada;\n",
        "     * Pico mais alto do que a distribuição normal;\n",
        "     * Possui caudas pesadas\n",
        "\n",
        "  * Platicúrtica ( < 0 ):\n",
        "\n",
        "      * A função de distribuição é mais achatada do que a distribuição normal\n",
        "\n",
        "      ![alt text](https://www.portalaction.com.br/sites/default/files/resize/EstatisticaBasica/figuras/curtose1-700x304.png)\n",
        "\n",
        "\n",
        "\n"
      ]
    },
    {
      "cell_type": "markdown",
      "metadata": {
        "id": "j2-6gst_2eRh",
        "colab_type": "text"
      },
      "source": [
        "* Normalizar e Padronizar\n",
        "\n",
        "  * Transformar todas as variáveis na mesma ordem de grandeza;\n",
        "\n",
        "  * Padronizar as variáveis irá resultar em uma média igual a 0 e um desvio padrão igual a 1.\n",
        "\n",
        "  * Normalizar tem como objetivo colocar as variáveis dentro de um intervalo de 0 e 1, caso tenha resultado negativo de -1 e 1."
      ]
    },
    {
      "cell_type": "markdown",
      "metadata": {
        "id": "bI4KzO_D4SrU",
        "colab_type": "text"
      },
      "source": [
        "## Análise Explorátoria"
      ]
    },
    {
      "cell_type": "markdown",
      "metadata": {
        "id": "QXjdmWQp5GHy",
        "colab_type": "text"
      },
      "source": [
        "Dados: https://www.kaggle.com/rubenssjr/brasilian-houses-to-rent#houses_to_rent.csv\n",
        "\n",
        "\n",
        "Colunas:\n",
        "\n",
        "\n",
        "* city: Cidade onde o imóvel está localizada / City where the property is located\n",
        "* area: Area do imovel / Property area\n",
        "* rooms: Numero de quartos/ Quantity of rooms\n",
        "* bathroom: Numero de banheiros / Quantity of bathroom\n",
        "* parking spaces: Numero de vagas / Quantity of parking spaces\n",
        "* floor: Andar / Floor\n",
        "* animal: Aceita animais? / Acept animals?\n",
        "* furniture: Mobilhada? / Furniture?\n",
        "* hoa(RS): Valor do condominio / Homeowners association tax\n",
        "* rent amount: Valor do Aluguel / Rent amount\n",
        "* property tax: IPTU / Property tax\n",
        "* fire insurance: Seguro Incendio / Fire Insurance\n",
        "* total: Valor total / Total\n",
        "\n",
        "\n",
        "\n",
        "\n"
      ]
    },
    {
      "cell_type": "markdown",
      "metadata": {
        "id": "jBQBTteB6TeJ",
        "colab_type": "text"
      },
      "source": [
        "Importando os pacotes"
      ]
    },
    {
      "cell_type": "code",
      "metadata": {
        "id": "GIr99i3N4Xa0",
        "colab_type": "code",
        "colab": {}
      },
      "source": [
        "import pandas as pd"
      ],
      "execution_count": 0,
      "outputs": []
    },
    {
      "cell_type": "code",
      "metadata": {
        "id": "93slEQOs6h4F",
        "colab_type": "code",
        "colab": {}
      },
      "source": [
        "df = pd.read_csv('/content/houses_to_rent_v2.csv')"
      ],
      "execution_count": 0,
      "outputs": []
    },
    {
      "cell_type": "code",
      "metadata": {
        "id": "mKhNiOs66lAN",
        "colab_type": "code",
        "outputId": "99bb7986-13f9-403e-aa99-2d59d2c860b9",
        "colab": {
          "base_uri": "https://localhost:8080/",
          "height": 635
        }
      },
      "source": [
        "df"
      ],
      "execution_count": 0,
      "outputs": [
        {
          "output_type": "execute_result",
          "data": {
            "text/html": [
              "<div>\n",
              "<style scoped>\n",
              "    .dataframe tbody tr th:only-of-type {\n",
              "        vertical-align: middle;\n",
              "    }\n",
              "\n",
              "    .dataframe tbody tr th {\n",
              "        vertical-align: top;\n",
              "    }\n",
              "\n",
              "    .dataframe thead th {\n",
              "        text-align: right;\n",
              "    }\n",
              "</style>\n",
              "<table border=\"1\" class=\"dataframe\">\n",
              "  <thead>\n",
              "    <tr style=\"text-align: right;\">\n",
              "      <th></th>\n",
              "      <th>city</th>\n",
              "      <th>area</th>\n",
              "      <th>rooms</th>\n",
              "      <th>bathroom</th>\n",
              "      <th>parking spaces</th>\n",
              "      <th>floor</th>\n",
              "      <th>animal</th>\n",
              "      <th>furniture</th>\n",
              "      <th>hoa (R$)</th>\n",
              "      <th>rent amount (R$)</th>\n",
              "      <th>property tax (R$)</th>\n",
              "      <th>fire insurance (R$)</th>\n",
              "      <th>total (R$)</th>\n",
              "    </tr>\n",
              "  </thead>\n",
              "  <tbody>\n",
              "    <tr>\n",
              "      <th>0</th>\n",
              "      <td>São Paulo</td>\n",
              "      <td>70</td>\n",
              "      <td>2</td>\n",
              "      <td>1</td>\n",
              "      <td>1</td>\n",
              "      <td>7</td>\n",
              "      <td>acept</td>\n",
              "      <td>furnished</td>\n",
              "      <td>2065</td>\n",
              "      <td>3300</td>\n",
              "      <td>211</td>\n",
              "      <td>42</td>\n",
              "      <td>5618</td>\n",
              "    </tr>\n",
              "    <tr>\n",
              "      <th>1</th>\n",
              "      <td>São Paulo</td>\n",
              "      <td>320</td>\n",
              "      <td>4</td>\n",
              "      <td>4</td>\n",
              "      <td>0</td>\n",
              "      <td>20</td>\n",
              "      <td>acept</td>\n",
              "      <td>not furnished</td>\n",
              "      <td>1200</td>\n",
              "      <td>4960</td>\n",
              "      <td>1750</td>\n",
              "      <td>63</td>\n",
              "      <td>7973</td>\n",
              "    </tr>\n",
              "    <tr>\n",
              "      <th>2</th>\n",
              "      <td>Porto Alegre</td>\n",
              "      <td>80</td>\n",
              "      <td>1</td>\n",
              "      <td>1</td>\n",
              "      <td>1</td>\n",
              "      <td>6</td>\n",
              "      <td>acept</td>\n",
              "      <td>not furnished</td>\n",
              "      <td>1000</td>\n",
              "      <td>2800</td>\n",
              "      <td>0</td>\n",
              "      <td>41</td>\n",
              "      <td>3841</td>\n",
              "    </tr>\n",
              "    <tr>\n",
              "      <th>3</th>\n",
              "      <td>Porto Alegre</td>\n",
              "      <td>51</td>\n",
              "      <td>2</td>\n",
              "      <td>1</td>\n",
              "      <td>0</td>\n",
              "      <td>2</td>\n",
              "      <td>acept</td>\n",
              "      <td>not furnished</td>\n",
              "      <td>270</td>\n",
              "      <td>1112</td>\n",
              "      <td>22</td>\n",
              "      <td>17</td>\n",
              "      <td>1421</td>\n",
              "    </tr>\n",
              "    <tr>\n",
              "      <th>4</th>\n",
              "      <td>São Paulo</td>\n",
              "      <td>25</td>\n",
              "      <td>1</td>\n",
              "      <td>1</td>\n",
              "      <td>0</td>\n",
              "      <td>1</td>\n",
              "      <td>not acept</td>\n",
              "      <td>not furnished</td>\n",
              "      <td>0</td>\n",
              "      <td>800</td>\n",
              "      <td>25</td>\n",
              "      <td>11</td>\n",
              "      <td>836</td>\n",
              "    </tr>\n",
              "    <tr>\n",
              "      <th>...</th>\n",
              "      <td>...</td>\n",
              "      <td>...</td>\n",
              "      <td>...</td>\n",
              "      <td>...</td>\n",
              "      <td>...</td>\n",
              "      <td>...</td>\n",
              "      <td>...</td>\n",
              "      <td>...</td>\n",
              "      <td>...</td>\n",
              "      <td>...</td>\n",
              "      <td>...</td>\n",
              "      <td>...</td>\n",
              "      <td>...</td>\n",
              "    </tr>\n",
              "    <tr>\n",
              "      <th>10687</th>\n",
              "      <td>Porto Alegre</td>\n",
              "      <td>63</td>\n",
              "      <td>2</td>\n",
              "      <td>1</td>\n",
              "      <td>1</td>\n",
              "      <td>5</td>\n",
              "      <td>not acept</td>\n",
              "      <td>furnished</td>\n",
              "      <td>402</td>\n",
              "      <td>1478</td>\n",
              "      <td>24</td>\n",
              "      <td>22</td>\n",
              "      <td>1926</td>\n",
              "    </tr>\n",
              "    <tr>\n",
              "      <th>10688</th>\n",
              "      <td>São Paulo</td>\n",
              "      <td>285</td>\n",
              "      <td>4</td>\n",
              "      <td>4</td>\n",
              "      <td>4</td>\n",
              "      <td>17</td>\n",
              "      <td>acept</td>\n",
              "      <td>not furnished</td>\n",
              "      <td>3100</td>\n",
              "      <td>15000</td>\n",
              "      <td>973</td>\n",
              "      <td>191</td>\n",
              "      <td>19260</td>\n",
              "    </tr>\n",
              "    <tr>\n",
              "      <th>10689</th>\n",
              "      <td>Rio de Janeiro</td>\n",
              "      <td>70</td>\n",
              "      <td>3</td>\n",
              "      <td>3</td>\n",
              "      <td>0</td>\n",
              "      <td>8</td>\n",
              "      <td>not acept</td>\n",
              "      <td>furnished</td>\n",
              "      <td>980</td>\n",
              "      <td>6000</td>\n",
              "      <td>332</td>\n",
              "      <td>78</td>\n",
              "      <td>7390</td>\n",
              "    </tr>\n",
              "    <tr>\n",
              "      <th>10690</th>\n",
              "      <td>Rio de Janeiro</td>\n",
              "      <td>120</td>\n",
              "      <td>2</td>\n",
              "      <td>2</td>\n",
              "      <td>2</td>\n",
              "      <td>8</td>\n",
              "      <td>acept</td>\n",
              "      <td>furnished</td>\n",
              "      <td>1585</td>\n",
              "      <td>12000</td>\n",
              "      <td>279</td>\n",
              "      <td>155</td>\n",
              "      <td>14020</td>\n",
              "    </tr>\n",
              "    <tr>\n",
              "      <th>10691</th>\n",
              "      <td>São Paulo</td>\n",
              "      <td>80</td>\n",
              "      <td>2</td>\n",
              "      <td>1</td>\n",
              "      <td>0</td>\n",
              "      <td>-</td>\n",
              "      <td>acept</td>\n",
              "      <td>not furnished</td>\n",
              "      <td>0</td>\n",
              "      <td>1400</td>\n",
              "      <td>165</td>\n",
              "      <td>22</td>\n",
              "      <td>1587</td>\n",
              "    </tr>\n",
              "  </tbody>\n",
              "</table>\n",
              "<p>10692 rows × 13 columns</p>\n",
              "</div>"
            ],
            "text/plain": [
              "                 city  area  ...  fire insurance (R$)  total (R$)\n",
              "0           São Paulo    70  ...                   42        5618\n",
              "1           São Paulo   320  ...                   63        7973\n",
              "2        Porto Alegre    80  ...                   41        3841\n",
              "3        Porto Alegre    51  ...                   17        1421\n",
              "4           São Paulo    25  ...                   11         836\n",
              "...               ...   ...  ...                  ...         ...\n",
              "10687    Porto Alegre    63  ...                   22        1926\n",
              "10688       São Paulo   285  ...                  191       19260\n",
              "10689  Rio de Janeiro    70  ...                   78        7390\n",
              "10690  Rio de Janeiro   120  ...                  155       14020\n",
              "10691       São Paulo    80  ...                   22        1587\n",
              "\n",
              "[10692 rows x 13 columns]"
            ]
          },
          "metadata": {
            "tags": []
          },
          "execution_count": 65
        }
      ]
    },
    {
      "cell_type": "code",
      "metadata": {
        "id": "co-0WJFc7qDs",
        "colab_type": "code",
        "outputId": "8f8c0390-9ec5-48cb-a463-3f612246984d",
        "colab": {
          "base_uri": "https://localhost:8080/",
          "height": 272
        }
      },
      "source": [
        "df.dtypes"
      ],
      "execution_count": 0,
      "outputs": [
        {
          "output_type": "execute_result",
          "data": {
            "text/plain": [
              "city                   object\n",
              "area                    int64\n",
              "rooms                   int64\n",
              "bathroom                int64\n",
              "parking spaces          int64\n",
              "floor                  object\n",
              "animal                 object\n",
              "furniture              object\n",
              "hoa (R$)                int64\n",
              "rent amount (R$)        int64\n",
              "property tax (R$)       int64\n",
              "fire insurance (R$)     int64\n",
              "total (R$)              int64\n",
              "dtype: object"
            ]
          },
          "metadata": {
            "tags": []
          },
          "execution_count": 66
        }
      ]
    },
    {
      "cell_type": "code",
      "metadata": {
        "id": "oPsZJnm-7r-j",
        "colab_type": "code",
        "outputId": "f86c4670-995d-483c-e845-d1fe41c10493",
        "colab": {
          "base_uri": "https://localhost:8080/",
          "height": 272
        }
      },
      "source": [
        "df.isnull().sum()"
      ],
      "execution_count": 0,
      "outputs": [
        {
          "output_type": "execute_result",
          "data": {
            "text/plain": [
              "city                   0\n",
              "area                   0\n",
              "rooms                  0\n",
              "bathroom               0\n",
              "parking spaces         0\n",
              "floor                  0\n",
              "animal                 0\n",
              "furniture              0\n",
              "hoa (R$)               0\n",
              "rent amount (R$)       0\n",
              "property tax (R$)      0\n",
              "fire insurance (R$)    0\n",
              "total (R$)             0\n",
              "dtype: int64"
            ]
          },
          "metadata": {
            "tags": []
          },
          "execution_count": 67
        }
      ]
    },
    {
      "cell_type": "code",
      "metadata": {
        "id": "dcxfsOC57zWK",
        "colab_type": "code",
        "outputId": "b7b13cb6-d7ff-4247-ffb7-f50bfc1ad37a",
        "colab": {
          "base_uri": "https://localhost:8080/",
          "height": 381
        }
      },
      "source": [
        "df.info()"
      ],
      "execution_count": 0,
      "outputs": [
        {
          "output_type": "stream",
          "text": [
            "<class 'pandas.core.frame.DataFrame'>\n",
            "RangeIndex: 10692 entries, 0 to 10691\n",
            "Data columns (total 13 columns):\n",
            " #   Column               Non-Null Count  Dtype \n",
            "---  ------               --------------  ----- \n",
            " 0   city                 10692 non-null  object\n",
            " 1   area                 10692 non-null  int64 \n",
            " 2   rooms                10692 non-null  int64 \n",
            " 3   bathroom             10692 non-null  int64 \n",
            " 4   parking spaces       10692 non-null  int64 \n",
            " 5   floor                10692 non-null  object\n",
            " 6   animal               10692 non-null  object\n",
            " 7   furniture            10692 non-null  object\n",
            " 8   hoa (R$)             10692 non-null  int64 \n",
            " 9   rent amount (R$)     10692 non-null  int64 \n",
            " 10  property tax (R$)    10692 non-null  int64 \n",
            " 11  fire insurance (R$)  10692 non-null  int64 \n",
            " 12  total (R$)           10692 non-null  int64 \n",
            "dtypes: int64(9), object(4)\n",
            "memory usage: 1.1+ MB\n"
          ],
          "name": "stdout"
        }
      ]
    },
    {
      "cell_type": "markdown",
      "metadata": {
        "id": "msaQsEMO8OVI",
        "colab_type": "text"
      },
      "source": [
        "###Problema: Explorar o Valor do aluguel ( rent amount RS)\n",
        "\n",
        "Estatística univariada"
      ]
    },
    {
      "cell_type": "code",
      "metadata": {
        "id": "Zbg0-AgA8fB5",
        "colab_type": "code",
        "outputId": "9cb1ad56-5185-4fcb-c21a-9af326d356c8",
        "colab": {
          "base_uri": "https://localhost:8080/",
          "height": 339
        }
      },
      "source": [
        "df.head()"
      ],
      "execution_count": 0,
      "outputs": [
        {
          "output_type": "execute_result",
          "data": {
            "text/html": [
              "<div>\n",
              "<style scoped>\n",
              "    .dataframe tbody tr th:only-of-type {\n",
              "        vertical-align: middle;\n",
              "    }\n",
              "\n",
              "    .dataframe tbody tr th {\n",
              "        vertical-align: top;\n",
              "    }\n",
              "\n",
              "    .dataframe thead th {\n",
              "        text-align: right;\n",
              "    }\n",
              "</style>\n",
              "<table border=\"1\" class=\"dataframe\">\n",
              "  <thead>\n",
              "    <tr style=\"text-align: right;\">\n",
              "      <th></th>\n",
              "      <th>city</th>\n",
              "      <th>area</th>\n",
              "      <th>rooms</th>\n",
              "      <th>bathroom</th>\n",
              "      <th>parking spaces</th>\n",
              "      <th>floor</th>\n",
              "      <th>animal</th>\n",
              "      <th>furniture</th>\n",
              "      <th>hoa (R$)</th>\n",
              "      <th>rent amount (R$)</th>\n",
              "      <th>property tax (R$)</th>\n",
              "      <th>fire insurance (R$)</th>\n",
              "      <th>total (R$)</th>\n",
              "    </tr>\n",
              "  </thead>\n",
              "  <tbody>\n",
              "    <tr>\n",
              "      <th>0</th>\n",
              "      <td>São Paulo</td>\n",
              "      <td>70</td>\n",
              "      <td>2</td>\n",
              "      <td>1</td>\n",
              "      <td>1</td>\n",
              "      <td>7</td>\n",
              "      <td>acept</td>\n",
              "      <td>furnished</td>\n",
              "      <td>2065</td>\n",
              "      <td>3300</td>\n",
              "      <td>211</td>\n",
              "      <td>42</td>\n",
              "      <td>5618</td>\n",
              "    </tr>\n",
              "    <tr>\n",
              "      <th>1</th>\n",
              "      <td>São Paulo</td>\n",
              "      <td>320</td>\n",
              "      <td>4</td>\n",
              "      <td>4</td>\n",
              "      <td>0</td>\n",
              "      <td>20</td>\n",
              "      <td>acept</td>\n",
              "      <td>not furnished</td>\n",
              "      <td>1200</td>\n",
              "      <td>4960</td>\n",
              "      <td>1750</td>\n",
              "      <td>63</td>\n",
              "      <td>7973</td>\n",
              "    </tr>\n",
              "    <tr>\n",
              "      <th>2</th>\n",
              "      <td>Porto Alegre</td>\n",
              "      <td>80</td>\n",
              "      <td>1</td>\n",
              "      <td>1</td>\n",
              "      <td>1</td>\n",
              "      <td>6</td>\n",
              "      <td>acept</td>\n",
              "      <td>not furnished</td>\n",
              "      <td>1000</td>\n",
              "      <td>2800</td>\n",
              "      <td>0</td>\n",
              "      <td>41</td>\n",
              "      <td>3841</td>\n",
              "    </tr>\n",
              "    <tr>\n",
              "      <th>3</th>\n",
              "      <td>Porto Alegre</td>\n",
              "      <td>51</td>\n",
              "      <td>2</td>\n",
              "      <td>1</td>\n",
              "      <td>0</td>\n",
              "      <td>2</td>\n",
              "      <td>acept</td>\n",
              "      <td>not furnished</td>\n",
              "      <td>270</td>\n",
              "      <td>1112</td>\n",
              "      <td>22</td>\n",
              "      <td>17</td>\n",
              "      <td>1421</td>\n",
              "    </tr>\n",
              "    <tr>\n",
              "      <th>4</th>\n",
              "      <td>São Paulo</td>\n",
              "      <td>25</td>\n",
              "      <td>1</td>\n",
              "      <td>1</td>\n",
              "      <td>0</td>\n",
              "      <td>1</td>\n",
              "      <td>not acept</td>\n",
              "      <td>not furnished</td>\n",
              "      <td>0</td>\n",
              "      <td>800</td>\n",
              "      <td>25</td>\n",
              "      <td>11</td>\n",
              "      <td>836</td>\n",
              "    </tr>\n",
              "  </tbody>\n",
              "</table>\n",
              "</div>"
            ],
            "text/plain": [
              "           city  area  ...  fire insurance (R$)  total (R$)\n",
              "0     São Paulo    70  ...                   42        5618\n",
              "1     São Paulo   320  ...                   63        7973\n",
              "2  Porto Alegre    80  ...                   41        3841\n",
              "3  Porto Alegre    51  ...                   17        1421\n",
              "4     São Paulo    25  ...                   11         836\n",
              "\n",
              "[5 rows x 13 columns]"
            ]
          },
          "metadata": {
            "tags": []
          },
          "execution_count": 69
        }
      ]
    },
    {
      "cell_type": "code",
      "metadata": {
        "id": "sarPda3z800R",
        "colab_type": "code",
        "colab": {}
      },
      "source": [
        "df.rename(columns = {'rent amount (R$)': 'Aluguel'}, inplace = True)"
      ],
      "execution_count": 0,
      "outputs": []
    },
    {
      "cell_type": "code",
      "metadata": {
        "id": "XdnzUtX59Mw_",
        "colab_type": "code",
        "outputId": "fd53ff38-bc26-4879-eabb-35b5ea1be1c0",
        "colab": {
          "base_uri": "https://localhost:8080/",
          "height": 35
        }
      },
      "source": [
        "media_aluguel = df['Aluguel'].mean()\n",
        "print(f'A média de um aluguel é de R${media_aluguel:.2f}.')"
      ],
      "execution_count": 0,
      "outputs": [
        {
          "output_type": "stream",
          "text": [
            "A média de um aluguel é de R$3896.25.\n"
          ],
          "name": "stdout"
        }
      ]
    },
    {
      "cell_type": "code",
      "metadata": {
        "id": "q5dT2tHS9gOe",
        "colab_type": "code",
        "outputId": "a332392c-9365-4b9e-9ac5-fa98944ee0cc",
        "colab": {
          "base_uri": "https://localhost:8080/",
          "height": 35
        }
      },
      "source": [
        "mediana_aluguel = df['Aluguel'].median()\n",
        "print(f\"A mediana de um aluguel é de R${mediana_aluguel: .2f}\")"
      ],
      "execution_count": 0,
      "outputs": [
        {
          "output_type": "stream",
          "text": [
            "A mediana de um aluguel é de R$ 2661.00\n"
          ],
          "name": "stdout"
        }
      ]
    },
    {
      "cell_type": "markdown",
      "metadata": {
        "id": "0JKdvwV19qIu",
        "colab_type": "text"
      },
      "source": [
        "Como a média é muito maior do que a mediana, podemos assumir que o nosso conjunto de dados possui outliers.\n",
        "Que possui dados com valores de alugueis muito mais altos que elevam a media do aluguel."
      ]
    },
    {
      "cell_type": "code",
      "metadata": {
        "id": "Xt1kxVIj96_-",
        "colab_type": "code",
        "outputId": "46c3cdcf-fad0-4f76-afb6-d4d3f46e38b4",
        "colab": {
          "base_uri": "https://localhost:8080/",
          "height": 35
        }
      },
      "source": [
        "dp_aluguel = df['Aluguel'].std()\n",
        "\n",
        "print(f'O desvio padrão de um Aluguel é de R${dp_aluguel:.2f}')"
      ],
      "execution_count": 0,
      "outputs": [
        {
          "output_type": "stream",
          "text": [
            "O desvio padrão de um Aluguel é de R$3408.55\n"
          ],
          "name": "stdout"
        }
      ]
    },
    {
      "cell_type": "markdown",
      "metadata": {
        "id": "FZNhEvYi-Ftd",
        "colab_type": "text"
      },
      "source": [
        "Como o desvio padrão é bem proximo da Média, podemos assumir que o nosso conjunto de dados é bem \"espaçoso\".\n",
        "Muitos alugueis mto altos, muitos baixos.."
      ]
    },
    {
      "cell_type": "code",
      "metadata": {
        "id": "GvD7Nlav-Q_T",
        "colab_type": "code",
        "outputId": "61f5b8e0-a010-46ff-b654-14057d53bb00",
        "colab": {
          "base_uri": "https://localhost:8080/",
          "height": 181
        }
      },
      "source": [
        "df['Aluguel'].describe()"
      ],
      "execution_count": 0,
      "outputs": [
        {
          "output_type": "execute_result",
          "data": {
            "text/plain": [
              "count    10692.000000\n",
              "mean      3896.247194\n",
              "std       3408.545518\n",
              "min        450.000000\n",
              "25%       1530.000000\n",
              "50%       2661.000000\n",
              "75%       5000.000000\n",
              "max      45000.000000\n",
              "Name: Aluguel, dtype: float64"
            ]
          },
          "metadata": {
            "tags": []
          },
          "execution_count": 74
        }
      ]
    },
    {
      "cell_type": "code",
      "metadata": {
        "id": "-E-Pr-B--3yC",
        "colab_type": "code",
        "outputId": "cde19f03-c7b4-4b52-a05f-042dbf40dd84",
        "colab": {
          "base_uri": "https://localhost:8080/",
          "height": 490
        }
      },
      "source": [
        "df['Aluguel'].plot(kind = 'hist', bins = 150, grid = True, figsize =(12,8))"
      ],
      "execution_count": 0,
      "outputs": [
        {
          "output_type": "execute_result",
          "data": {
            "text/plain": [
              "<matplotlib.axes._subplots.AxesSubplot at 0x7f53ad719588>"
            ]
          },
          "metadata": {
            "tags": []
          },
          "execution_count": 75
        },
        {
          "output_type": "display_data",
          "data": {
            "image/png": "[encoded data removed]",
            "text/plain": [
              "<Figure size 864x576 with 1 Axes>"
            ]
          },
          "metadata": {
            "tags": [],
            "needs_background": "light"
          }
        }
      ]
    },
    {
      "cell_type": "code",
      "metadata": {
        "id": "NBSxCtuB9lew",
        "colab_type": "code",
        "outputId": "9accf5aa-f8d9-4070-9c22-e45a9df6f088",
        "colab": {
          "base_uri": "https://localhost:8080/",
          "height": 35
        }
      },
      "source": [
        "df.shape[0] - df.shape[0] * 0.75"
      ],
      "execution_count": 0,
      "outputs": [
        {
          "output_type": "execute_result",
          "data": {
            "text/plain": [
              "2673.0"
            ]
          },
          "metadata": {
            "tags": []
          },
          "execution_count": 76
        }
      ]
    },
    {
      "cell_type": "code",
      "metadata": {
        "id": "qpFasnQI-0-k",
        "colab_type": "code",
        "outputId": "289bfe01-3e04-41e6-ac51-999dcf184dee",
        "colab": {
          "base_uri": "https://localhost:8080/",
          "height": 35
        }
      },
      "source": [
        "#skewness positive skew\n",
        "df['Aluguel'].skew()"
      ],
      "execution_count": 0,
      "outputs": [
        {
          "output_type": "execute_result",
          "data": {
            "text/plain": [
              "1.8388773035440982"
            ]
          },
          "metadata": {
            "tags": []
          },
          "execution_count": 77
        }
      ]
    },
    {
      "cell_type": "code",
      "metadata": {
        "id": "BmpPT28G--Fr",
        "colab_type": "code",
        "outputId": "5b500120-64c2-4333-ffb8-26844a60845e",
        "colab": {
          "base_uri": "https://localhost:8080/",
          "height": 35
        }
      },
      "source": [
        "#kurtosis - leptocurtica\n",
        "df['Aluguel'].kurtosis()"
      ],
      "execution_count": 0,
      "outputs": [
        {
          "output_type": "execute_result",
          "data": {
            "text/plain": [
              "4.624228179818687"
            ]
          },
          "metadata": {
            "tags": []
          },
          "execution_count": 78
        }
      ]
    },
    {
      "cell_type": "markdown",
      "metadata": {
        "id": "DT7YwHHc_fsJ",
        "colab_type": "text"
      },
      "source": [
        "## Estatística Descritiva binvariada/multivariada\n",
        "* Amostra possui mais de uma variável\n",
        "* Relacionamento entre os pares ou conjunto de variáveis:\n",
        "\n",
        "  * Tabulação cruzadas e tabelas de contigência.\n",
        "  * Representação gráfica via gráfico de dispersão\n",
        "  * As medidas quantitativas de dependência.\n",
        "  * As descrições de destribuição condicionais.\n",
        "\n",
        "\n",
        "\n"
      ]
    },
    {
      "cell_type": "markdown",
      "metadata": {
        "id": "u0DDY9XD__lZ",
        "colab_type": "text"
      },
      "source": [
        "### Correlação\n",
        "\n",
        "* Medida padronizada da relação entre duas variáveis;\n",
        "* Indica a força e a direção do relacionamento duas variáveis aleatórias.\n",
        "* Correlação espúria é o nome que se dá para a existência de relação estatística entre duas ou mais variáveis, mas sem significado teórico."
      ]
    },
    {
      "cell_type": "markdown",
      "metadata": {
        "id": "uiPGVjVnBQuo",
        "colab_type": "text"
      },
      "source": [
        "Correlação de Spearman:\n",
        "\n",
        "  * Avalia a relação monotônica entre duas variáveis contínuas ou ordinais.\n",
        "  * Relação monotônicas variáveis:\n",
        "    * Mudar juntas mas não necessariamente a uma taxa constante.\n",
        "    * O coeficiente de correlação de spearman baseia-se nos valores classificados de cada variável, em vez de os dados brutos.\n",
        "    * Menos sensível a outliers.\n",
        "\n",
        "    ![alt text](https://a8h2w5y7.rocketcdn.me/wp-content/uploads/2017/03/monotonic-relationship.png)"
      ]
    },
    {
      "cell_type": "markdown",
      "metadata": {
        "id": "JlDmaICzB76G",
        "colab_type": "text"
      },
      "source": [
        "Correlação de Pearson:\n",
        "\n",
        "* Relação linear entre duas variáveis contínuas\n",
        "\n",
        "* Relação linear:\n",
        "\n",
        "  * Mudança em uma variável é associada a uma mudança proporcional na outra variável"
      ]
    },
    {
      "cell_type": "markdown",
      "metadata": {
        "id": "PIiERNsgCXkz",
        "colab_type": "text"
      },
      "source": [
        "* -1 >= Correlação <= 1\n",
        "* Correlação próxima a **zero**: *as duas variáveis não estão relacionadas*\n",
        "* Uma correlação positiva:\n",
        "  * Variáveis movem juntas;\n",
        "  * Forte quanto mais se aproximam de 1\n",
        "\n",
        "* Uma correlação negativa:\n",
        "  * Variáveis movem-se em direções opostas.\n",
        "  * Mais forte a medida que se aproxima de -1."
      ]
    },
    {
      "cell_type": "markdown",
      "metadata": {
        "id": "3wyS_LeGC74T",
        "colab_type": "text"
      },
      "source": [
        "* Duas variáveis que estão perfeitamente correlacionadas postiviamente ( r = 1 ) movem-se essencialmente em perfeita proporção na mesma direção;\n",
        "\n",
        "* Duas variáveis que estão perfeitamentes correlacionadas negativamente ( r = -1) movem-se em perfeita proporção em direções opostas.\n",
        "\n",
        "\n",
        "![alt text](https://www.transum.org/software/SW/Scatter_Graphs/Examples.png)"
      ]
    },
    {
      "cell_type": "markdown",
      "metadata": {
        "id": "iLHc3QJyDxSU",
        "colab_type": "text"
      },
      "source": [
        "![alt text](https://i.pinimg.com/originals/bb/cb/ec/bbcbec1321afe19b40e7fa663c3f8125.jpg)  "
      ]
    },
    {
      "cell_type": "markdown",
      "metadata": {
        "id": "VIHtnK6mJJqU",
        "colab_type": "text"
      },
      "source": [
        "### Exploração multivariável\n",
        "\n",
        "Exploração é dada por:\n",
        "1. Perguntas:\n",
        "  1. Qual a cidade com a média de aluguel mais cara?\n",
        "  2. Quantos banheiros existem nas residencias com aluguéis mais caros?\n",
        "  3. Os imóveis mais caros aceitam animal?\n",
        "  4. Os imóveis mais caros são mobiliados?\n",
        "\n",
        "2. Hipóteses\n",
        "  1. São paulo é a cidade com o aluguel mais caro.\n",
        "  2. Quanto mais banheiros em um imovel mais caro ele é.\n",
        "  3. Imovéis com mobilia tem o aluguel mais caro.\n"
      ]
    },
    {
      "cell_type": "code",
      "metadata": {
        "id": "w0r_Hu2___Gj",
        "colab_type": "code",
        "outputId": "5da266fe-8dc4-4cf6-b66c-32b14b379076",
        "colab": {
          "base_uri": "https://localhost:8080/",
          "height": 339
        }
      },
      "source": [
        "df.head()"
      ],
      "execution_count": 0,
      "outputs": [
        {
          "output_type": "execute_result",
          "data": {
            "text/html": [
              "<div>\n",
              "<style scoped>\n",
              "    .dataframe tbody tr th:only-of-type {\n",
              "        vertical-align: middle;\n",
              "    }\n",
              "\n",
              "    .dataframe tbody tr th {\n",
              "        vertical-align: top;\n",
              "    }\n",
              "\n",
              "    .dataframe thead th {\n",
              "        text-align: right;\n",
              "    }\n",
              "</style>\n",
              "<table border=\"1\" class=\"dataframe\">\n",
              "  <thead>\n",
              "    <tr style=\"text-align: right;\">\n",
              "      <th></th>\n",
              "      <th>city</th>\n",
              "      <th>area</th>\n",
              "      <th>rooms</th>\n",
              "      <th>bathroom</th>\n",
              "      <th>parking spaces</th>\n",
              "      <th>floor</th>\n",
              "      <th>animal</th>\n",
              "      <th>furniture</th>\n",
              "      <th>hoa (R$)</th>\n",
              "      <th>Aluguel</th>\n",
              "      <th>property tax (R$)</th>\n",
              "      <th>fire insurance (R$)</th>\n",
              "      <th>total (R$)</th>\n",
              "    </tr>\n",
              "  </thead>\n",
              "  <tbody>\n",
              "    <tr>\n",
              "      <th>0</th>\n",
              "      <td>São Paulo</td>\n",
              "      <td>70</td>\n",
              "      <td>2</td>\n",
              "      <td>1</td>\n",
              "      <td>1</td>\n",
              "      <td>7</td>\n",
              "      <td>acept</td>\n",
              "      <td>furnished</td>\n",
              "      <td>2065</td>\n",
              "      <td>3300</td>\n",
              "      <td>211</td>\n",
              "      <td>42</td>\n",
              "      <td>5618</td>\n",
              "    </tr>\n",
              "    <tr>\n",
              "      <th>1</th>\n",
              "      <td>São Paulo</td>\n",
              "      <td>320</td>\n",
              "      <td>4</td>\n",
              "      <td>4</td>\n",
              "      <td>0</td>\n",
              "      <td>20</td>\n",
              "      <td>acept</td>\n",
              "      <td>not furnished</td>\n",
              "      <td>1200</td>\n",
              "      <td>4960</td>\n",
              "      <td>1750</td>\n",
              "      <td>63</td>\n",
              "      <td>7973</td>\n",
              "    </tr>\n",
              "    <tr>\n",
              "      <th>2</th>\n",
              "      <td>Porto Alegre</td>\n",
              "      <td>80</td>\n",
              "      <td>1</td>\n",
              "      <td>1</td>\n",
              "      <td>1</td>\n",
              "      <td>6</td>\n",
              "      <td>acept</td>\n",
              "      <td>not furnished</td>\n",
              "      <td>1000</td>\n",
              "      <td>2800</td>\n",
              "      <td>0</td>\n",
              "      <td>41</td>\n",
              "      <td>3841</td>\n",
              "    </tr>\n",
              "    <tr>\n",
              "      <th>3</th>\n",
              "      <td>Porto Alegre</td>\n",
              "      <td>51</td>\n",
              "      <td>2</td>\n",
              "      <td>1</td>\n",
              "      <td>0</td>\n",
              "      <td>2</td>\n",
              "      <td>acept</td>\n",
              "      <td>not furnished</td>\n",
              "      <td>270</td>\n",
              "      <td>1112</td>\n",
              "      <td>22</td>\n",
              "      <td>17</td>\n",
              "      <td>1421</td>\n",
              "    </tr>\n",
              "    <tr>\n",
              "      <th>4</th>\n",
              "      <td>São Paulo</td>\n",
              "      <td>25</td>\n",
              "      <td>1</td>\n",
              "      <td>1</td>\n",
              "      <td>0</td>\n",
              "      <td>1</td>\n",
              "      <td>not acept</td>\n",
              "      <td>not furnished</td>\n",
              "      <td>0</td>\n",
              "      <td>800</td>\n",
              "      <td>25</td>\n",
              "      <td>11</td>\n",
              "      <td>836</td>\n",
              "    </tr>\n",
              "  </tbody>\n",
              "</table>\n",
              "</div>"
            ],
            "text/plain": [
              "           city  area  ...  fire insurance (R$)  total (R$)\n",
              "0     São Paulo    70  ...                   42        5618\n",
              "1     São Paulo   320  ...                   63        7973\n",
              "2  Porto Alegre    80  ...                   41        3841\n",
              "3  Porto Alegre    51  ...                   17        1421\n",
              "4     São Paulo    25  ...                   11         836\n",
              "\n",
              "[5 rows x 13 columns]"
            ]
          },
          "metadata": {
            "tags": []
          },
          "execution_count": 79
        }
      ]
    },
    {
      "cell_type": "code",
      "metadata": {
        "id": "d7XBSbr3NMBM",
        "colab_type": "code",
        "outputId": "65aeec3e-889e-47b9-f0d0-c42bde529ce3",
        "colab": {
          "base_uri": "https://localhost:8080/",
          "height": 198
        }
      },
      "source": [
        " # 2. Quanto mais banheiros em um imovel mais caro ele é.\n",
        "df.groupby('city')['Aluguel'].mean().reset_index().sort_values('Aluguel', ascending = False)"
      ],
      "execution_count": 0,
      "outputs": [
        {
          "output_type": "execute_result",
          "data": {
            "text/html": [
              "<div>\n",
              "<style scoped>\n",
              "    .dataframe tbody tr th:only-of-type {\n",
              "        vertical-align: middle;\n",
              "    }\n",
              "\n",
              "    .dataframe tbody tr th {\n",
              "        vertical-align: top;\n",
              "    }\n",
              "\n",
              "    .dataframe thead th {\n",
              "        text-align: right;\n",
              "    }\n",
              "</style>\n",
              "<table border=\"1\" class=\"dataframe\">\n",
              "  <thead>\n",
              "    <tr style=\"text-align: right;\">\n",
              "      <th></th>\n",
              "      <th>city</th>\n",
              "      <th>Aluguel</th>\n",
              "    </tr>\n",
              "  </thead>\n",
              "  <tbody>\n",
              "    <tr>\n",
              "      <th>4</th>\n",
              "      <td>São Paulo</td>\n",
              "      <td>4652.793783</td>\n",
              "    </tr>\n",
              "    <tr>\n",
              "      <th>0</th>\n",
              "      <td>Belo Horizonte</td>\n",
              "      <td>3664.127981</td>\n",
              "    </tr>\n",
              "    <tr>\n",
              "      <th>3</th>\n",
              "      <td>Rio de Janeiro</td>\n",
              "      <td>3232.904064</td>\n",
              "    </tr>\n",
              "    <tr>\n",
              "      <th>1</th>\n",
              "      <td>Campinas</td>\n",
              "      <td>2364.290739</td>\n",
              "    </tr>\n",
              "    <tr>\n",
              "      <th>2</th>\n",
              "      <td>Porto Alegre</td>\n",
              "      <td>2337.699916</td>\n",
              "    </tr>\n",
              "  </tbody>\n",
              "</table>\n",
              "</div>"
            ],
            "text/plain": [
              "             city      Aluguel\n",
              "4       São Paulo  4652.793783\n",
              "0  Belo Horizonte  3664.127981\n",
              "3  Rio de Janeiro  3232.904064\n",
              "1        Campinas  2364.290739\n",
              "2    Porto Alegre  2337.699916"
            ]
          },
          "metadata": {
            "tags": []
          },
          "execution_count": 80
        }
      ]
    },
    {
      "cell_type": "code",
      "metadata": {
        "id": "QXzhR0xhNffw",
        "colab_type": "code",
        "outputId": "00b74fdf-1768-40ce-8b83-1826c3f551a7",
        "colab": {
          "base_uri": "https://localhost:8080/",
          "height": 198
        }
      },
      "source": [
        "df.groupby('city')['Aluguel'].median().reset_index().sort_values('Aluguel', ascending = False)"
      ],
      "execution_count": 0,
      "outputs": [
        {
          "output_type": "execute_result",
          "data": {
            "text/html": [
              "<div>\n",
              "<style scoped>\n",
              "    .dataframe tbody tr th:only-of-type {\n",
              "        vertical-align: middle;\n",
              "    }\n",
              "\n",
              "    .dataframe tbody tr th {\n",
              "        vertical-align: top;\n",
              "    }\n",
              "\n",
              "    .dataframe thead th {\n",
              "        text-align: right;\n",
              "    }\n",
              "</style>\n",
              "<table border=\"1\" class=\"dataframe\">\n",
              "  <thead>\n",
              "    <tr style=\"text-align: right;\">\n",
              "      <th></th>\n",
              "      <th>city</th>\n",
              "      <th>Aluguel</th>\n",
              "    </tr>\n",
              "  </thead>\n",
              "  <tbody>\n",
              "    <tr>\n",
              "      <th>4</th>\n",
              "      <td>São Paulo</td>\n",
              "      <td>3400</td>\n",
              "    </tr>\n",
              "    <tr>\n",
              "      <th>0</th>\n",
              "      <td>Belo Horizonte</td>\n",
              "      <td>2300</td>\n",
              "    </tr>\n",
              "    <tr>\n",
              "      <th>3</th>\n",
              "      <td>Rio de Janeiro</td>\n",
              "      <td>2300</td>\n",
              "    </tr>\n",
              "    <tr>\n",
              "      <th>2</th>\n",
              "      <td>Porto Alegre</td>\n",
              "      <td>1650</td>\n",
              "    </tr>\n",
              "    <tr>\n",
              "      <th>1</th>\n",
              "      <td>Campinas</td>\n",
              "      <td>1500</td>\n",
              "    </tr>\n",
              "  </tbody>\n",
              "</table>\n",
              "</div>"
            ],
            "text/plain": [
              "             city  Aluguel\n",
              "4       São Paulo     3400\n",
              "0  Belo Horizonte     2300\n",
              "3  Rio de Janeiro     2300\n",
              "2    Porto Alegre     1650\n",
              "1        Campinas     1500"
            ]
          },
          "metadata": {
            "tags": []
          },
          "execution_count": 81
        }
      ]
    },
    {
      "cell_type": "code",
      "metadata": {
        "id": "YAs7R1QxNpTX",
        "colab_type": "code",
        "colab": {}
      },
      "source": [
        "#Quantos banheiros existem em média nas residencias com aluguéis mais caros?\n",
        "#Definir alugueis mais altos são valore saciam de 5000 \n",
        "\n",
        "df['Aluguel_Alto'] = ['Alto' if x > 5000 else 'Baixo' for x in df['Aluguel']]"
      ],
      "execution_count": 0,
      "outputs": []
    },
    {
      "cell_type": "code",
      "metadata": {
        "id": "TgQDgN9nP3Nb",
        "colab_type": "code",
        "outputId": "2d5921b1-29ef-43ac-d8e8-0d48d779d8fd",
        "colab": {
          "base_uri": "https://localhost:8080/",
          "height": 72
        }
      },
      "source": [
        "df['Aluguel_Alto'].value_counts()"
      ],
      "execution_count": 0,
      "outputs": [
        {
          "output_type": "execute_result",
          "data": {
            "text/plain": [
              "Baixo    8153\n",
              "Alto     2539\n",
              "Name: Aluguel_Alto, dtype: int64"
            ]
          },
          "metadata": {
            "tags": []
          },
          "execution_count": 83
        }
      ]
    },
    {
      "cell_type": "code",
      "metadata": {
        "id": "tukQ3d5PQDsW",
        "colab_type": "code",
        "outputId": "d15ff415-d4e9-42c3-cb88-8a3821b5e528",
        "colab": {
          "base_uri": "https://localhost:8080/",
          "height": 90
        }
      },
      "source": [
        "df.groupby('Aluguel_Alto')['bathroom'].mean()"
      ],
      "execution_count": 0,
      "outputs": [
        {
          "output_type": "execute_result",
          "data": {
            "text/plain": [
              "Aluguel_Alto\n",
              "Alto     3.729027\n",
              "Baixo    1.772108\n",
              "Name: bathroom, dtype: float64"
            ]
          },
          "metadata": {
            "tags": []
          },
          "execution_count": 84
        }
      ]
    },
    {
      "cell_type": "code",
      "metadata": {
        "id": "i1od7ehsRRcS",
        "colab_type": "code",
        "outputId": "c4a09626-b5f8-4f5a-83cb-189b5493225c",
        "colab": {
          "base_uri": "https://localhost:8080/",
          "height": 55
        }
      },
      "source": [
        "\"\"\"\n",
        "Hipóteses\n",
        "\n",
        "São paulo é a cidade com o aluguel mais caro.\n",
        "Quanto mais banheiros em um imovel mais caro ele é.\n",
        "Imovéis com mobilia tem o aluguel mais caro.\n",
        "\"\"\""
      ],
      "execution_count": 0,
      "outputs": [
        {
          "output_type": "execute_result",
          "data": {
            "text/plain": [
              "'\\nHipóteses\\n\\nSão paulo é a cidade com o aluguel mais caro.\\nQuanto mais banheiros em um imovel mais caro ele é.\\nImovéis com mobilia tem o aluguel mais caro.\\n'"
            ]
          },
          "metadata": {
            "tags": []
          },
          "execution_count": 85
        }
      ]
    },
    {
      "cell_type": "code",
      "metadata": {
        "id": "efX9iBuWRcd_",
        "colab_type": "code",
        "outputId": "25feb84e-805b-41bc-8831-49307def0581",
        "colab": {
          "base_uri": "https://localhost:8080/",
          "height": 108
        }
      },
      "source": [
        "df[['Aluguel','bathroom']].corr(method = 'spearman')"
      ],
      "execution_count": 0,
      "outputs": [
        {
          "output_type": "execute_result",
          "data": {
            "text/html": [
              "<div>\n",
              "<style scoped>\n",
              "    .dataframe tbody tr th:only-of-type {\n",
              "        vertical-align: middle;\n",
              "    }\n",
              "\n",
              "    .dataframe tbody tr th {\n",
              "        vertical-align: top;\n",
              "    }\n",
              "\n",
              "    .dataframe thead th {\n",
              "        text-align: right;\n",
              "    }\n",
              "</style>\n",
              "<table border=\"1\" class=\"dataframe\">\n",
              "  <thead>\n",
              "    <tr style=\"text-align: right;\">\n",
              "      <th></th>\n",
              "      <th>Aluguel</th>\n",
              "      <th>bathroom</th>\n",
              "    </tr>\n",
              "  </thead>\n",
              "  <tbody>\n",
              "    <tr>\n",
              "      <th>Aluguel</th>\n",
              "      <td>1.00000</td>\n",
              "      <td>0.71589</td>\n",
              "    </tr>\n",
              "    <tr>\n",
              "      <th>bathroom</th>\n",
              "      <td>0.71589</td>\n",
              "      <td>1.00000</td>\n",
              "    </tr>\n",
              "  </tbody>\n",
              "</table>\n",
              "</div>"
            ],
            "text/plain": [
              "          Aluguel  bathroom\n",
              "Aluguel   1.00000   0.71589\n",
              "bathroom  0.71589   1.00000"
            ]
          },
          "metadata": {
            "tags": []
          },
          "execution_count": 86
        }
      ]
    },
    {
      "cell_type": "code",
      "metadata": {
        "id": "4v2a0vykSdML",
        "colab_type": "code",
        "outputId": "16d66d8d-6516-4dbe-f08a-cec082254a45",
        "colab": {
          "base_uri": "https://localhost:8080/",
          "height": 290
        }
      },
      "source": [
        "df.dtypes"
      ],
      "execution_count": 0,
      "outputs": [
        {
          "output_type": "execute_result",
          "data": {
            "text/plain": [
              "city                   object\n",
              "area                    int64\n",
              "rooms                   int64\n",
              "bathroom                int64\n",
              "parking spaces          int64\n",
              "floor                  object\n",
              "animal                 object\n",
              "furniture              object\n",
              "hoa (R$)                int64\n",
              "Aluguel                 int64\n",
              "property tax (R$)       int64\n",
              "fire insurance (R$)     int64\n",
              "total (R$)              int64\n",
              "Aluguel_Alto           object\n",
              "dtype: object"
            ]
          },
          "metadata": {
            "tags": []
          },
          "execution_count": 87
        }
      ]
    },
    {
      "cell_type": "code",
      "metadata": {
        "id": "yAUWySDBSQdl",
        "colab_type": "code",
        "colab": {}
      },
      "source": [
        "aux = pd.DataFrame({'colunas' : df.columns, 'tipos' : df.dtypes})"
      ],
      "execution_count": 0,
      "outputs": []
    },
    {
      "cell_type": "code",
      "metadata": {
        "id": "yWSusiXjSW81",
        "colab_type": "code",
        "outputId": "236a8a57-0c18-43c4-b9fa-5d25fdde6647",
        "colab": {
          "base_uri": "https://localhost:8080/",
          "height": 468
        }
      },
      "source": [
        "aux"
      ],
      "execution_count": 0,
      "outputs": [
        {
          "output_type": "execute_result",
          "data": {
            "text/html": [
              "<div>\n",
              "<style scoped>\n",
              "    .dataframe tbody tr th:only-of-type {\n",
              "        vertical-align: middle;\n",
              "    }\n",
              "\n",
              "    .dataframe tbody tr th {\n",
              "        vertical-align: top;\n",
              "    }\n",
              "\n",
              "    .dataframe thead th {\n",
              "        text-align: right;\n",
              "    }\n",
              "</style>\n",
              "<table border=\"1\" class=\"dataframe\">\n",
              "  <thead>\n",
              "    <tr style=\"text-align: right;\">\n",
              "      <th></th>\n",
              "      <th>colunas</th>\n",
              "      <th>tipos</th>\n",
              "    </tr>\n",
              "  </thead>\n",
              "  <tbody>\n",
              "    <tr>\n",
              "      <th>city</th>\n",
              "      <td>city</td>\n",
              "      <td>object</td>\n",
              "    </tr>\n",
              "    <tr>\n",
              "      <th>area</th>\n",
              "      <td>area</td>\n",
              "      <td>int64</td>\n",
              "    </tr>\n",
              "    <tr>\n",
              "      <th>rooms</th>\n",
              "      <td>rooms</td>\n",
              "      <td>int64</td>\n",
              "    </tr>\n",
              "    <tr>\n",
              "      <th>bathroom</th>\n",
              "      <td>bathroom</td>\n",
              "      <td>int64</td>\n",
              "    </tr>\n",
              "    <tr>\n",
              "      <th>parking spaces</th>\n",
              "      <td>parking spaces</td>\n",
              "      <td>int64</td>\n",
              "    </tr>\n",
              "    <tr>\n",
              "      <th>floor</th>\n",
              "      <td>floor</td>\n",
              "      <td>object</td>\n",
              "    </tr>\n",
              "    <tr>\n",
              "      <th>animal</th>\n",
              "      <td>animal</td>\n",
              "      <td>object</td>\n",
              "    </tr>\n",
              "    <tr>\n",
              "      <th>furniture</th>\n",
              "      <td>furniture</td>\n",
              "      <td>object</td>\n",
              "    </tr>\n",
              "    <tr>\n",
              "      <th>hoa (R$)</th>\n",
              "      <td>hoa (R$)</td>\n",
              "      <td>int64</td>\n",
              "    </tr>\n",
              "    <tr>\n",
              "      <th>Aluguel</th>\n",
              "      <td>Aluguel</td>\n",
              "      <td>int64</td>\n",
              "    </tr>\n",
              "    <tr>\n",
              "      <th>property tax (R$)</th>\n",
              "      <td>property tax (R$)</td>\n",
              "      <td>int64</td>\n",
              "    </tr>\n",
              "    <tr>\n",
              "      <th>fire insurance (R$)</th>\n",
              "      <td>fire insurance (R$)</td>\n",
              "      <td>int64</td>\n",
              "    </tr>\n",
              "    <tr>\n",
              "      <th>total (R$)</th>\n",
              "      <td>total (R$)</td>\n",
              "      <td>int64</td>\n",
              "    </tr>\n",
              "    <tr>\n",
              "      <th>Aluguel_Alto</th>\n",
              "      <td>Aluguel_Alto</td>\n",
              "      <td>object</td>\n",
              "    </tr>\n",
              "  </tbody>\n",
              "</table>\n",
              "</div>"
            ],
            "text/plain": [
              "                                 colunas   tipos\n",
              "city                                city  object\n",
              "area                                area   int64\n",
              "rooms                              rooms   int64\n",
              "bathroom                        bathroom   int64\n",
              "parking spaces            parking spaces   int64\n",
              "floor                              floor  object\n",
              "animal                            animal  object\n",
              "furniture                      furniture  object\n",
              "hoa (R$)                        hoa (R$)   int64\n",
              "Aluguel                          Aluguel   int64\n",
              "property tax (R$)      property tax (R$)   int64\n",
              "fire insurance (R$)  fire insurance (R$)   int64\n",
              "total (R$)                    total (R$)   int64\n",
              "Aluguel_Alto                Aluguel_Alto  object"
            ]
          },
          "metadata": {
            "tags": []
          },
          "execution_count": 89
        }
      ]
    },
    {
      "cell_type": "code",
      "metadata": {
        "id": "_4Cgkhe-SpSj",
        "colab_type": "code",
        "colab": {}
      },
      "source": [
        "numeric_columns = list(aux[aux['tipos'] == 'int64']['colunas'])"
      ],
      "execution_count": 0,
      "outputs": []
    },
    {
      "cell_type": "code",
      "metadata": {
        "id": "KwA-3duFS1Iy",
        "colab_type": "code",
        "outputId": "9b9a5bcf-9725-4773-f1ad-635b1cf19cf1",
        "colab": {
          "base_uri": "https://localhost:8080/",
          "height": 835
        }
      },
      "source": [
        "for coluna in numeric_columns:\n",
        "  print(coluna)\n",
        "  print(df[['Aluguel', coluna]].corr(method = 'spearman'))\n",
        "  print('-----------------------------------------')"
      ],
      "execution_count": 0,
      "outputs": [
        {
          "output_type": "stream",
          "text": [
            "area\n",
            "          Aluguel      area\n",
            "Aluguel  1.000000  0.728095\n",
            "area     0.728095  1.000000\n",
            "-----------------------------------------\n",
            "rooms\n",
            "          Aluguel     rooms\n",
            "Aluguel  1.000000  0.600969\n",
            "rooms    0.600969  1.000000\n",
            "-----------------------------------------\n",
            "bathroom\n",
            "          Aluguel  bathroom\n",
            "Aluguel   1.00000   0.71589\n",
            "bathroom  0.71589   1.00000\n",
            "-----------------------------------------\n",
            "parking spaces\n",
            "                 Aluguel  parking spaces\n",
            "Aluguel         1.000000        0.620175\n",
            "parking spaces  0.620175        1.000000\n",
            "-----------------------------------------\n",
            "hoa (R$)\n",
            "           Aluguel  hoa (R$)\n",
            "Aluguel   1.000000  0.355785\n",
            "hoa (R$)  0.355785  1.000000\n",
            "-----------------------------------------\n",
            "Aluguel\n",
            "         Aluguel  Aluguel\n",
            "Aluguel      1.0      1.0\n",
            "Aluguel      1.0      1.0\n",
            "-----------------------------------------\n",
            "property tax (R$)\n",
            "                   Aluguel  property tax (R$)\n",
            "Aluguel            1.00000            0.65923\n",
            "property tax (R$)  0.65923            1.00000\n",
            "-----------------------------------------\n",
            "fire insurance (R$)\n",
            "                      Aluguel  fire insurance (R$)\n",
            "Aluguel              1.000000             0.988045\n",
            "fire insurance (R$)  0.988045             1.000000\n",
            "-----------------------------------------\n",
            "total (R$)\n",
            "             Aluguel  total (R$)\n",
            "Aluguel     1.000000    0.968176\n",
            "total (R$)  0.968176    1.000000\n",
            "-----------------------------------------\n"
          ],
          "name": "stdout"
        }
      ]
    },
    {
      "cell_type": "markdown",
      "metadata": {
        "id": "BZi9BtcDuOEI",
        "colab_type": "text"
      },
      "source": [
        "## Visualização de Dados\n",
        "\n"
      ]
    },
    {
      "cell_type": "markdown",
      "metadata": {
        "id": "sHfN8o9Hvjbv",
        "colab_type": "text"
      },
      "source": [
        "* Histogramas:\n",
        "\n",
        "  * Distribuição de frequências;\n",
        "  * Representação gráfica em colunas ou em barras;\n",
        "  * Dividido em classes uniformes ou não uniformes;\n",
        "  * A base de cada retângulo representa uma classe\n",
        "  * A altura de cada retângulo\n",
        "\n",
        "    * Quantidade\n",
        "    * Frequência absoluta com que o valor da classe ocorre no conjunto de dados para classes uniformes\n",
        "    * Densidade de frequência para classes não uniformes.\n",
        "\n",
        "Exemplo de histograma: \n",
        "\n",
        "![alt text](data:image/png;base64,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)\n"
      ]
    },
    {
      "cell_type": "markdown",
      "metadata": {
        "id": "T-pdWzWNvkoL",
        "colab_type": "text"
      },
      "source": [
        "* Boxplot:\n",
        "\n",
        "  * Ferramenta gráfica para representar a variação de dados observados de uma variável numérica por meio de quartis;\n",
        "  * Reta (whisker ou fio de bigode) que estende-se verticalmente ou horizontalmente a partir da caixa, indicando a variabiliade fora do quartil superior e do quartil inferior.\n",
        "\n",
        "  * Outliers ficam como pontos individuais.\n",
        "\n",
        "\n",
        "  ![alt text](https://www.gradusct.com.br/wp-content/uploads/2018/07/Boxplot-04.png)"
      ]
    },
    {
      "cell_type": "markdown",
      "metadata": {
        "id": "t9gk5fv4xG0M",
        "colab_type": "text"
      },
      "source": [
        "* Dispersão (Scatter plot)\n",
        "  * Representa duas (tipicamente) ou mais variáveis\n",
        "  * Utiliza coordenadas cartesianas para exibir valores de um conjunto de dados\n",
        "  * São exibidos como uma coleção de pontos, cada um com valor de uma variável\n",
        "\n",
        "  ![alt text](https://www.r-graph-gallery.com/img/graph/13-scatter-plot2.png)"
      ]
    },
    {
      "cell_type": "markdown",
      "metadata": {
        "id": "WbNWVO3Hx7lf",
        "colab_type": "text"
      },
      "source": [
        "* Matriz de Correlação\n",
        "   * Tabela\n",
        "   * Correlação entre valores de um conjunto de dados\n",
        "   * Cada linha é cruzada com outra para obter o valores de correlação\n",
        "\n",
        "   ![alt text](data:image/jpeg;base64,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)"
      ]
    },
    {
      "cell_type": "code",
      "metadata": {
        "id": "akfwllG6yp5W",
        "colab_type": "code",
        "colab": {}
      },
      "source": [
        "import seaborn as sns\n",
        "import matplotlib.pyplot as plt"
      ],
      "execution_count": 0,
      "outputs": []
    },
    {
      "cell_type": "code",
      "metadata": {
        "id": "H7rmTJqyy9nU",
        "colab_type": "code",
        "outputId": "e8a03e97-9c7a-4d74-d823-e4ccd281246c",
        "colab": {
          "base_uri": "https://localhost:8080/",
          "height": 297
        }
      },
      "source": [
        "sns.countplot(x = 'city', data = df )"
      ],
      "execution_count": 0,
      "outputs": [
        {
          "output_type": "execute_result",
          "data": {
            "text/plain": [
              "<matplotlib.axes._subplots.AxesSubplot at 0x7f53a2948d30>"
            ]
          },
          "metadata": {
            "tags": []
          },
          "execution_count": 99
        },
        {
          "output_type": "display_data",
          "data": {
            "image/png": "[encoded data removed]",
            "text/plain": [
              "<Figure size 432x288 with 1 Axes>"
            ]
          },
          "metadata": {
            "tags": [],
            "needs_background": "light"
          }
        }
      ]
    },
    {
      "cell_type": "code",
      "metadata": {
        "id": "BpPb-7WYzTOi",
        "colab_type": "code",
        "outputId": "88121729-63ae-4593-89f7-5504b936cc3d",
        "colab": {
          "base_uri": "https://localhost:8080/",
          "height": 548
        }
      },
      "source": [
        "plt.figure(figsize = (12,8))\n",
        "sns.barplot(x = 'city', y= 'Aluguel', data = df.groupby('city')['Aluguel'].mean().reset_index( ))\n",
        "plt.title(\"Média do Aluguel por Cidade\")\n",
        "plt.xlabel('Cidade')\n",
        "plt.ylabel('Aluguel em R$')\n",
        "plt.xticks(rotation = '45')\n",
        "plt.show()"
      ],
      "execution_count": 0,
      "outputs": [
        {
          "output_type": "display_data",
          "data": {
            "image/png": "[encoded data removed]",
            "text/plain": [
              "<Figure size 864x576 with 1 Axes>"
            ]
          },
          "metadata": {
            "tags": [],
            "needs_background": "light"
          }
        }
      ]
    },
    {
      "cell_type": "code",
      "metadata": {
        "id": "FAmU01Jz88CV",
        "colab_type": "code",
        "outputId": "30e88a88-afa6-44ff-ed4a-8e42d6ab6a06",
        "colab": {
          "base_uri": "https://localhost:8080/",
          "height": 503
        }
      },
      "source": [
        "plt.figure(figsize =)\n",
        "sns.distplot(df['Aluguel'])"
      ],
      "execution_count": 0,
      "outputs": [
        {
          "output_type": "execute_result",
          "data": {
            "text/plain": [
              "<matplotlib.axes._subplots.AxesSubplot at 0x7f53a0bc6e80>"
            ]
          },
          "metadata": {
            "tags": []
          },
          "execution_count": 137
        },
        {
          "output_type": "display_data",
          "data": {
            "image/png": "[encoded data removed]",
            "text/plain": [
              "<Figure size 864x576 with 1 Axes>"
            ]
          },
          "metadata": {
            "tags": [],
            "needs_background": "light"
          }
        }
      ]
    },
    {
      "cell_type": "code",
      "metadata": {
        "id": "Q6TEgFQi9KjK",
        "colab_type": "code",
        "outputId": "8a1020cb-f986-4fb7-f319-0f5c651893fe",
        "colab": {
          "base_uri": "https://localhost:8080/",
          "height": 495
        }
      },
      "source": [
        "plt.figure(figsize = (12,8))\n",
        "sns.scatterplot(x = 'Aluguel', y = 'bathroom', hue = 'city',size = 'bathroom', data = df)\n",
        "plt.show()"
      ],
      "execution_count": 0,
      "outputs": [
        {
          "output_type": "display_data",
          "data": {
            "image/png": "[encoded data removed]",
            "text/plain": [
              "<Figure size 864x576 with 1 Axes>"
            ]
          },
          "metadata": {
            "tags": [],
            "needs_background": "light"
          }
        }
      ]
    },
    {
      "cell_type": "code",
      "metadata": {
        "id": "JfVoIpKx-b3h",
        "colab_type": "code",
        "outputId": "67a70817-6e9b-4660-c49d-38144fe5abbc",
        "colab": {
          "base_uri": "https://localhost:8080/",
          "height": 370
        }
      },
      "source": [
        "sns.heatmap(df.corr(), annot = True)"
      ],
      "execution_count": 0,
      "outputs": [
        {
          "output_type": "execute_result",
          "data": {
            "text/plain": [
              "<matplotlib.axes._subplots.AxesSubplot at 0x7f53a0d2b9b0>"
            ]
          },
          "metadata": {
            "tags": []
          },
          "execution_count": 146
        },
        {
          "output_type": "display_data",
          "data": {
            "image/png": "[encoded data removed]",
            "text/plain": [
              "<Figure size 432x288 with 2 Axes>"
            ]
          },
          "metadata": {
            "tags": [],
            "needs_background": "light"
          }
        }
      ]
    },
    {
      "cell_type": "code",
      "metadata": {
        "id": "0KB-WGxqAAZ-",
        "colab_type": "code",
        "outputId": "1d7d8d2a-52f0-4d25-c6ed-531aa8d45092",
        "colab": {
          "base_uri": "https://localhost:8080/",
          "height": 235
        }
      },
      "source": [
        "df['bathroom'].astype(float)"
      ],
      "execution_count": 0,
      "outputs": [
        {
          "output_type": "execute_result",
          "data": {
            "text/plain": [
              "0        1.0\n",
              "1        4.0\n",
              "2        1.0\n",
              "3        1.0\n",
              "4        1.0\n",
              "        ... \n",
              "10687    1.0\n",
              "10688    4.0\n",
              "10689    3.0\n",
              "10690    2.0\n",
              "10691    1.0\n",
              "Name: bathroom, Length: 10692, dtype: float64"
            ]
          },
          "metadata": {
            "tags": []
          },
          "execution_count": 155
        }
      ]
    }
  ]
}