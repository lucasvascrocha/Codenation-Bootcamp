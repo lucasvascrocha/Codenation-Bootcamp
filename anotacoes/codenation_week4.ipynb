{
  "nbformat": 4,
  "nbformat_minor": 0,
  "metadata": {
    "colab": {
      "name": "codenation_week4.ipynb",
      "provenance": []
    },
    "kernelspec": {
      "name": "python3",
      "display_name": "Python 3"
    }
  },
  "cells": [
    {
      "cell_type": "markdown",
      "metadata": {
        "id": "gAq-OZA38Zdx",
        "colab_type": "text"
      },
      "source": [
        "# Objetivos da Semana\n",
        "* Continuação Análise de dados Exploratória\n",
        "1. Amostragem - Conceitos\n",
        "  * 1.1 Erros Comuns sobre Amostragem \n",
        "  * 1.2. Amostragem - Tipos"
      ]
    },
    {
      "cell_type": "markdown",
      "metadata": {
        "id": "VHuAfTzF93l9",
        "colab_type": "text"
      },
      "source": [
        "# Amostragem - Conceitos\n",
        "\n",
        "* Amostragem é o processo de obtenção de amostras, que são uma pequena parte de uma população.\n",
        "\n",
        "* População se refere a todos os membros de um grupo que queremos estudar.\n",
        "\n",
        "* Amostra se refere a um pequeno grupo de membros pertencentes a uma população.\n",
        "\n",
        "* *Se tenho 20 e pego 5, eu tenho uma amostra ótima, não é mesmo?*\n",
        "\n",
        "\n",
        "\n",
        "\n",
        "\n",
        "\n"
      ]
    },
    {
      "cell_type": "markdown",
      "metadata": {
        "id": "1Fka29Ew_Ep1",
        "colab_type": "text"
      },
      "source": [
        "## Erros Comuns sobre Amostragem\n",
        "\n"
      ]
    },
    {
      "cell_type": "markdown",
      "metadata": {
        "id": "0mMRLYnV_KlD",
        "colab_type": "text"
      },
      "source": [
        "### Undercoverage Bias\n",
        "\n",
        "* Acontece ao analisar muito poucas observações ou omitir segmentos inteiros de uma população.\n",
        "\n",
        "*  É o viés que ocorre quando alguns membros de uma população são representados inadequadamente na amostra. Esse tipo de viés geralmente ocorre na amostragem por conveniência, na qual você coleta uma amostra que é fácil de obter, mas que geralmente é suscetível à cobertura de certos membros de uma população.\n",
        "\n",
        "* *Ex: Conduzir uma pesquisa de satisfação de funcionários de um hospital durante o dia.*\n",
        "\n",
        "  * Funcionários do turno da noite não foram contemplados\n",
        "\n",
        "* Como previnir?\n",
        " * Undercoverage bias geralmente ocorre como resultado da amostragem por conveniência. Para eliminar (ou pelo menos minimizar) estes efeitos da Undercoverage bias, é utilizar uma amostra aleatória simples. Nesse tipo de amostra, cada membro de uma população tem a mesma chance de ser selecionado para estar na amostra.\n",
        "\n",
        "  * O benefício dessa abordagem é que amostras aleatórias simples são geralmente representativas da população em que estamos interessados, pois cada membro tem a mesma chance de ser incluído na amostra. Quando usamos essa abordagem em vez da amostragem de conveniência, podemos ter mais confiança em nossa capacidade de extrapolar as descobertas da amostra para a população maior, pois é provável que membros de todos os grupos (ou quase todos) da população sejam incluídos na amostra. \n",
        "\n",
        "\n",
        "* Materiais:\n",
        "  * [Undercoverage Bias: Explanation, Examples, & How to Prevent It](https://www.statology.org/undercoverage-bias/)\n",
        "  * [Undercoverage Definition](https://www.statisticshowto.com/undercoverage-definition/)"
      ]
    },
    {
      "cell_type": "markdown",
      "metadata": {
        "id": "VA4hbreXAGnU",
        "colab_type": "text"
      },
      "source": [
        "### Self-selection bias\n",
        "\n",
        "  * Acontece quando as pessoas que dispuseram a entrar na análise diferem muito da população\n",
        "\n",
        "    * Self-selection bias é um viés que é introduzido em um projeto de pesquisa quando os participantes escolhem participar ou não do projeto, e o grupo que escolhe participar não é equivalente (em termos de critérios de pesquisa) ao grupo que opta por não participar .\n",
        "\n",
        "  * Self-selection bias é o problema que muitas vezes resulta quando os entrevistados podem decidir por si próprios se desejam ou não participar de uma pesquisa. Na medida em que a propensão dos participantes a participar do estudo estiver correlacionada com o tópico substantivo que os pesquisadores estão tentando estudar, haverá um viés de auto-seleção nos dados resultantes. Na maioria dos casos, a auto-seleção levará a dados tendenciosos, pois os entrevistados que optarem por participar não representarão bem toda a população-alvo.\n",
        "\n",
        "\n",
        "* Um objetivo principal de realizar pesquisas é medir regularidades empíricas em uma população, amostrando um número muito menor de entidades que representam toda a população-alvo. A teoria moderna da amostragem é baseada na noção de que uma entidade é \n",
        "\n",
        "  * *Exemplo: Fazer uma pesquisa online sobre um time de futebol*\n",
        "    * Somente pessoas que provavelmente já torcem para o time responderam\n",
        "\n",
        "* Solução:\n",
        "\n",
        "  * Como pesquisador, você desejará projetar seu experimento para reduzir ao máximo o Self-selection bias. Onde o nosso víes não puder ser eliminado, ele deve ser quantificado o máximo possível, para que possamos entender com o que estamos lidando. Por exemplo, comparar sua amostra com dados da população pode ajudá-lo a ver como sua seleção pode diferir de uma aleatória. Relatar um viés de auto-seleção relevante deve sempre fazer parte dos relatórios da pesquisa.\n",
        "\n",
        "  * Se você não conseguir eliminar Self-selection bias, irá execer influência sobre os resultados. Os pontos de amostra com menor probabilidade de inclusão podem receber mais peso do que os pontos que podem ser auto-selecionados.\n",
        "\n",
        "* Materiais:\n",
        "  * [Self-Selection Bias](https://www.statisticshowto.com/self-selection-bias/)"
      ]
    },
    {
      "cell_type": "markdown",
      "metadata": {
        "id": "Sfz4M7WXCnov",
        "colab_type": "text"
      },
      "source": [
        "### Health-users bias\n",
        "\n",
        "* Acontece quando retiramos uma amostra somente da parte mais sadia da população\n",
        "\n",
        "* Exemplo: Realizar uma pesquisa sobre hábitos saudáveis de uma academia:\n",
        "  * Pessoas que frequentam a acadêmia provavelmente tem hábitos mais saúdaveis que o resto da população"
      ]
    },
    {
      "cell_type": "markdown",
      "metadata": {
        "id": "jstShhbzDIGm",
        "colab_type": "text"
      },
      "source": [
        "### Survivor Bias\n",
        "\n",
        "* Consiste no erro lógico de concertrarmos em coisas ou pessoas que sobreviveram a algum processo enquanto ignoramos aqueles que foram eliminados devido a falta de visibilidade.\n",
        "* Erro lógico comum que distorce nossa compreensão do mundo. Isso acontece quando assumimos que o sucesso conta toda a história e quando não consideramos adequadamente as falhas do passado.\n",
        "\n",
        "\n",
        "* Materias:\n",
        "\n",
        "  * [Survivorship Bias: The Tale of Forgotten Failures](https://fs.blog/2019/12/survivorship-bias/)\n",
        "  * [7 Lessons on Survivorship Bias that Will Help You Make Better Decisions](http://blog.idonethis.com/7-lessons-survivorship-bias-will-help-make-better-decisions/)"
      ]
    },
    {
      "cell_type": "markdown",
      "metadata": {
        "id": "6MnOjOqYEyY7",
        "colab_type": "text"
      },
      "source": [
        "## Amostragem - Tipos\n",
        "\n",
        "* Aleatória\n",
        "\n",
        "* Não Aleatória\n",
        "\n",
        "* Estratificada"
      ]
    },
    {
      "cell_type": "markdown",
      "metadata": {
        "id": "Wco1pTBGGMja",
        "colab_type": "text"
      },
      "source": [
        "### Aleatória"
      ]
    },
    {
      "cell_type": "markdown",
      "metadata": {
        "id": "FZpFcuJoFPWx",
        "colab_type": "text"
      },
      "source": [
        "\n",
        "\n",
        "#### Amostragem Aleatória\n",
        "* Amostragem aleatória simples (M.A.S.) é a técnica de amostragem onde todos os elementos que compõem o universo e estão descritos no marco amostral têm idêntica probabilidade de serem selecionados para a amostra. Seria como fazer um sorteio justo entre os indivíduos do universo: atribuir a cada pessoa um bilhete com um número de série, introduzir os números em uma caixa e sortear um número aleatório. Todos os indivíduos têm este bilhete dentro da urna formam uma amostra. Obviamente, na prática, estes métodos podem ser automatizados usando computadores\n",
        "\n",
        "* Se os indivíduos de um universo podem ser selecionados mais de uma vez na amostra, estamos falando de M.A.S. **com repetição ou sem repetição**. Se usamos a repetição, se eu seleciono um indivíduo aleatoriamente num sorteio, isso não me impede de selecioná-lo novamente num seguinte sorteio. Seria equivalente a dizer que toda vez que eu vou sortear um número aleatório de minha urna, eu adiciono novamente este número para participar do próximo sorteio. Se, no entanto, nós não usamos a repetição, um indivíduo selecionado para a amostra só poderá ser selecionado uma única vez.\n",
        "\n",
        "* Benefícios da amostra aleatória simples\n",
        "  * Com o desenvolvimento da informática, é possível desenhar uma amostra aleatória simples de forma rápida e totalmente confiável. A geração de  números aleatórios mediante a softwares (são números estritamente pseudo-aleatórios) é cada vez mais confiável.\n",
        "\n",
        "  * Desta forma, ao utilizar M.A.S., nos asseguramos a obtenção de amostras representativas de modo que a única fonte de erro que poderá afetar meus resultados será o azar aleatório. Importante: este \"erro\" devido ao azar pode ser calculado com precisão. \n",
        "\n",
        "* Inconvenientes da amostra aleatória simples\n",
        "  * O único inconveniente da M.A.S. é a dificuldade de aplicar nas pesquisas reais. Vamos recordar: por ser uma técnica probabilística, é necessário um marco amostral considerando todos os indivíduos onde todos sejam selecionáveis para a minha amostra. Um requisito dificílimo para ser cumprido, pois na maioria dos estudos de mercado e opiniões reais que nos obrigam a aplicar outras técnicas.\n",
        "\n",
        "\n",
        " "
      ]
    },
    {
      "cell_type": "markdown",
      "metadata": {
        "id": "GB4NNWuMGNyH",
        "colab_type": "text"
      },
      "source": [
        "#### Amostragem Não Aleatoria\n",
        "\n",
        "* Esta técnica é muito comum e consiste em selecionar uma amostra da população que seja acessível. Ou seja, os indivíduos empregados nessa pesquisa são selecionados porque eles estão prontamente disponíveis, não porque eles foram selecionados por meio de um critério estatístico. Geralmente essa conveniência representa uma maior facilidade operacional e baixo custo de amostragem, porém tem como consequência a incapacidade de fazer afirmações gerais com rigor estatístico sobre a população.\n",
        "\n",
        "* Por exemplo, suponhamos que você quer saber a opinião de estudantes universitários chilenos sobre política. Para realizar uma amostra probabilística, seria necessário ter acesso a todos os estudantes universitários chilenos, selecionar um grupo aleatório e realizar a pesquisa. Já para realizar uma amostra por conveniência, poderíamos abordar três universidades próximas, simplesmente porque representam o local onde a população da pesquisa \"reside\" e perguntar a alguns estudantes do período matutino que concordam em participar.\n",
        "\n",
        "* As  limitações desse tipo de amostragem são óbvias. Analisando o exemplo anterior, poderia ocorrer que as universidades tenham diferentes estratos sociais e pontos de vista políticos. Além disso, se eu selecionar 3 estudantes no período da manha, pode ser que eles tenham opiniões distintas dos estudantes do período vespertino e noturno.\n",
        "\n",
        "* Isso significa que os resultados de uma amostra por conveniência são totalmente irrelevantes e não diz nada da população? Não exatamente. Temos boas razões para acreditar que a amostra por conveniência não irá introduzir viés em relação à população total, os resultados que eu obtenho podem ser uma boa imagem do universo estudado.\n",
        "\n",
        "* Vantagens e inconvenientes\n",
        "  * A principal vantagem da amostra por conveniência é... sua conveniência! Simples, econômica, rápida... Nos pode oferecer informações valiosas em inúmeras circunstâncias, especialmente quando não existem razões fundamentais que diferenciem os indivíduos acessíveis que formam o total da população.\n",
        "\n",
        "  * O principal inconveniente, a falta de representatividade, impossibilita a realização de declarações sobre os resultados sem correr nenhum risco devido ao critério de amostra aplicado. No pior dos casos, a minha amostra por conveniência pode representar um desvio sistemático em relação à população total, produzindo resultados distorcidos."
      ]
    },
    {
      "cell_type": "markdown",
      "metadata": {
        "id": "n2Ei6Cd3GmgA",
        "colab_type": "text"
      },
      "source": [
        "#### Estratificada\n",
        "* Esta técnica pertence a família de amostras probabilísticas e consiste em dividir toda a população ou o \"objeto de estudo\" em diferentes subgrupos ou estratos diferentes, de maneira que um indivíduo pode fazer parte apenas de um único estrato ou camada.\n",
        "\n",
        "* As camadas ou estratos são grupos homogêneos de indivíduos, que por sua vez, são heterogêneos entre diferentes grupos. Por exemplo, se num estudo esperamos encontrar um comportamento diferente entre homens e mulheres, é conveniente definir duas camadas, uma para cada gênero. Se a seleção desses estratos for correta, encontraremos: (1) os homens devem se comportar de forma muito semelhante entre si, (2) as mulheres devem se comportar de forma muito parecida entre si e (3) homens e mulheres devem mostrar comportamentos diferentes entre si.\n",
        "\n",
        "* Se a condição comentada anteriormente é cumprida de forma correta (estratos internamente homogêneos e heterogêneos entre si), o uso da amostragem aleatória estratificada reduz o erro amostral, melhorando a precisão dos resultados ao realizar um estudo sobre a amostra.\n",
        "\n",
        "![alt text](https://www.netquest.com/hubfs/Imported_Blog_Media/amostra-1.png)\n",
        "Podemos dividir ein:\n",
        "\n",
        "* Amostragem estratificada proporcional:\n",
        "\n",
        "  * A amostra deverá obter camadas que obtenham as mesmas proporções observadas na população\n",
        "\n",
        "  * Se usamos a amostra estratificada proporcional, a amostra deverá obter camadas que obtenham as mesmas proporções observadas na população. \n",
        "\n",
        "* Amostragem estratificada uniforme:\n",
        "  * Atribuir o mesmo tamanho da amostra para todas as camadas, independente do pesos dos estratos da população\n",
        "  * Esta técnica favorece os estratos que têm menor peso na população, equivalendo a importância dos estratos mais relevantes. Globalmente, reduz a eficiência da nossa amostra (resultados menos precisos), mas em troca, permite estudar características de cada camada de forma mais eficiente.\n",
        "\n",
        "  * Amostragem estratificada ótima:\n",
        "    * Neste caso, o tamanho das camadas da amostra não será proporcional com a população. Por outro lado, o tamanho das camadas é definido em proporção com o desvio-padrão das variáveis estudadas. Isto é, se obtêm camadas maiores dos estratos com maior  variabilidade interna para representar melhor o total da amostra nos grupos populacionais mais difíceis de estudar.\n",
        "\n",
        "\n",
        "  * Eficiência dos diferentes tipos de amostras estratificadas\n",
        "    * A amostra estratificada proporcional produz um erro amostral menor ou igual a amostra aleatória simples, é mais precisa. A igualdade ocorre quando as médias ou as proporções que estamos analisando são iguais em todos os níveis dos estratos. Portanto, a estratificação produz mais benefícios quanto mais diferentes as camadas são.\n",
        "    * A amostragem estratificada ótima é sempre igual ou mais precisa que a amostra estratificada proporcional. Ambos os métodos são igualmente precisos quando os desvios-padrão são iguais dentro de cada camada, neste caso ambos os métodos são completamente equivalentes. A estratificação ótima produz mais benefícios quando maior for o número de diferenças entre cada grupo, situação que podemos reduzir o tamanho da amostra dos grupos mais homogêneos para beneficiar os mais heterogêneo. Em contrapartida, é um método complexo que exige ter muita informação antes de se obter a amostra estudada, algo que normalmente não temos.\n",
        "\n",
        "  * Tamanhos de amostras necessárias para cada técnica\n",
        "  ![alt text](https://cdn2.hubspot.net/hubfs/2595966/Imported_Blog_Media/tabla.png)\n",
        "\n",
        "  * Para interpretar o quadro, é necessário saber:\n",
        "\n",
        "    * **L** é o número de camadas que dividimos a amostra e h é um índice que se refere a um estrato concreto. Ou seja, h pode variar entre 1 a L estratos.\n",
        "p é a proporção que buscamos no total da população (p.e. % de fumantes). (1-p) é a proporção da amostra complementar, que não cumpre o critério buscado (não fumantes). Do mesmo modo, ph é a proporção dentro de cada uma das camadas.\n",
        "    * **σ2** é a variável do dado que buscamos (no caso de estimar as médias) que tem o total da população. σh2 é a variável dentro de cada camada.\n",
        "    * **e** é a margem de erro aceita.\n",
        "    * **Wh** é o peso que o estrato/camada tem na amostra (tamanho do estrato a respeito do total da amostra). Se falamos sobre amostra estratificada proporcional, cada Wh é igual a proporção que esta camada representa na população. Se falamos da amostra estratificada ótima, cada Wh se calcula em função da dispersão dentro de cada camada.\n",
        "\n",
        "  * Para a aplicação dessas técnicas, é necessário identificar:\n",
        "    * Qual a população relevante?\n",
        "    * Qual a população afetada?\n",
        "    * Qual a subdivisão?\n",
        "    * Serão todas afetadas?"
      ]
    },
    {
      "cell_type": "markdown",
      "metadata": {
        "id": "XnRTq5qFJmAK",
        "colab_type": "text"
      },
      "source": [
        "## Revisão Probabilidades\n",
        "\n",
        "* Variam de 0 (Impossível) a 1 (certo);\n",
        "* Probabilidades somam 1;\n",
        "* A distribuição relaciona x com a probabilidade p(x);\n",
        "* Podem ser funções discretas ou contínuas;"
      ]
    },
    {
      "cell_type": "markdown",
      "metadata": {
        "id": "jkUWmCECJ49i",
        "colab_type": "text"
      },
      "source": [
        "### Distribuição Normal\n",
        "\n",
        "* Área sob essa curva determina a probabilidade ocorrer o evento por ela correlacionado;\n",
        "* Soma da área sob a curva de densidade igual a 1;\n",
        "\n",
        "* Relacionada a variáveis contínuas;\n",
        "\n",
        "* Uma curva simétrica em torno do seu ponto médio, apresentado assim seu famoso formato de sino.\n",
        "  * Simétria sobre o centro\n",
        "  * 50% dos valores abaixo da média e 50% maior que a média\n",
        "\n",
        "* Média, mediana e moda dos dados possuem o mesmo valor.\n",
        "  * Média = Mediana = Moda\n",
        "\n",
        "  ![alt text](https://www.mathsisfun.com/data/images/normal-distribution-2.svg)\n",
        "\n",
        "\n",
        "* Estudos de caso:\n",
        "\n",
        "  * Altura e peso de uma população;\n",
        "  * Tamanho do crânio de recem nascidos;\n",
        "  * Pressão sanguínea;\n",
        "\n",
        "* É Dada sobre o z-score:\n",
        "\n",
        "  *  ![Formula](https://sajeewasp.com/wp-content/uploads/2018/03/z_score_formula1.png)\n",
        "\n",
        "  * ![alt text](https://www.portalaction.com.br/sites/default/files/EstatisticaBasica/figuras/distribuicaoNormal/normal3.PNG)\n",
        "\n",
        "* Materiais:\n",
        "\n",
        "  [Distribuição Normal](https://www.inf.ufsc.br/~andre.zibetti/probabilidade/normal.html)\n",
        "\n",
        "  [Aula IME](https://www.ime.usp.br/~hbolfar/aula_2013/Aula6-A12012.pdf)"
      ]
    },
    {
      "cell_type": "markdown",
      "metadata": {
        "id": "0l3C-7RHO2Ji",
        "colab_type": "text"
      },
      "source": [
        "### Distribuição Binomial\n",
        "\n",
        "* Relacionado a variáveis discretas\n",
        "* Distribuição de probabilidade e estatísticas discretas (inteiros e contáveis) a uma determina sequência de tentativas;\n",
        "* Espaço amostral finito;\n",
        "* Apenas dois resultados: Sucesso ou Fracasso\n",
        "* Todos os elementos devem possuir possibilidades iguais de ocorrência;\n",
        "* **Eventos independentes!** \n",
        "\n",
        "![alt text](https://slideplayer.com.br/slide/7808517/24/images/27/Distribui%C3%A7%C3%A3o+binomial%3A.jpg)\n",
        "* Materiais:\n",
        " * [Distribuição Binomial](https://www.inf.ufsc.br/~andre.zibetti/probabilidade/binomial.html)\n",
        " *[Vídeo sobre Distribuição Binomial](https://www.youtube.com/watch?v=J8jNoF-K8E8&list=PLblh5JKOoLUK0FLuzwntyYI10UQFUhsY9&index=27&t=0s)"
      ]
    },
    {
      "cell_type": "markdown",
      "metadata": {
        "id": "_7a7Gr6tQr1_",
        "colab_type": "text"
      },
      "source": [
        "## Função CDF E PDF"
      ]
    },
    {
      "cell_type": "markdown",
      "metadata": {
        "id": "VvuzRhtGQ2dW",
        "colab_type": "text"
      },
      "source": [
        "### Função Densidade de Probabilidade (PDF):\n",
        "\n",
        "  * Descreve a probabilidade relativa de uma variável aleatória tomar um valor dado;\n",
        "\n",
        "  * É não negativa sempre;\n",
        "\n",
        "  * E sua integral sobre todo espaço é igual a 1;\n",
        "\n",
        "  * Informa a probabilidade de uma variável X  assumir um valor naquele intervalo;\n",
        "\n",
        "\n"
      ]
    },
    {
      "cell_type": "markdown",
      "metadata": {
        "id": "OYKAxcwJR_zg",
        "colab_type": "text"
      },
      "source": [
        "### Função Distribuição Acumulada (CDF):\n",
        "* Descreve a probabilidade acumulaa de uma variável aleatória tomar um conjunto de valores;\n",
        "* É não negativa sempre;\n",
        "* E sua integral sobre todo espaço é igual a1;\n",
        "* Informa a probabilidade de uma variável X assume um valor naquele intervalo;"
      ]
    },
    {
      "cell_type": "markdown",
      "metadata": {
        "id": "wQ8WaKGJRosw",
        "colab_type": "text"
      },
      "source": [
        "### Função Distribuição Acumulada Empírica (ECDF):\n",
        "\n",
        "  * Um estiamdor da função de distribuição cumulativa;\n",
        "\n",
        "  * Modelo **Empírico**\n",
        "\n",
        "  * **Funciona com sua observações**"
      ]
    },
    {
      "cell_type": "markdown",
      "metadata": {
        "id": "mU0W1doXStsT",
        "colab_type": "text"
      },
      "source": [
        "## Prática"
      ]
    },
    {
      "cell_type": "code",
      "metadata": {
        "id": "etB5HjOcXGTm",
        "colab_type": "code",
        "colab": {
          "base_uri": "https://localhost:8080/",
          "height": 71
        },
        "outputId": "2a9a4eb8-8f10-43b5-8fec-5c6d835782e8"
      },
      "source": [
        "import pandas as pd\n",
        "import matplotlib.pyplot as plt\n",
        "import numpy as np\n",
        "import scipy.stats as sct\n",
        "import seaborn as sns"
      ],
      "execution_count": 1,
      "outputs": [
        {
          "output_type": "stream",
          "text": [
            "/usr/local/lib/python3.6/dist-packages/statsmodels/tools/_testing.py:19: FutureWarning: pandas.util.testing is deprecated. Use the functions in the public API at pandas.testing instead.\n",
            "  import pandas.util.testing as tm\n"
          ],
          "name": "stderr"
        }
      ]
    },
    {
      "cell_type": "code",
      "metadata": {
        "id": "unP-tDrpXRL6",
        "colab_type": "code",
        "outputId": "fea654e1-3f94-4795-e875-669fae1d2694",
        "colab": {
          "base_uri": "https://localhost:8080/",
          "height": 282
        }
      },
      "source": [
        "# Distribuição normal de 1000 valores normais e a mmédia é 9 e a variancia é 9\n",
        "norm = sct.norm.rvs(loc = 10, scale = 3, size=1000) #loc é a media, scale é o desvio padrão, X - N(10,9), populacao de 1000\n",
        "sns.distplot(norm)"
      ],
      "execution_count": 2,
      "outputs": [
        {
          "output_type": "execute_result",
          "data": {
            "text/plain": [
              "<matplotlib.axes._subplots.AxesSubplot at 0x7f38ef5afcf8>"
            ]
          },
          "metadata": {
            "tags": []
          },
          "execution_count": 2
        },
        {
          "output_type": "display_data",
          "data": {
            "image/png": "[encoded data removed]",
            "text/plain": [
              "<Figure size 432x288 with 1 Axes>"
            ]
          },
          "metadata": {
            "tags": [],
            "needs_background": "light"
          }
        }
      ]
    },
    {
      "cell_type": "code",
      "metadata": {
        "id": "_MgWnFa6X4_z",
        "colab_type": "code",
        "outputId": "bf62db80-f779-4d0e-fd9e-d0a887ce1fe5",
        "colab": {
          "base_uri": "https://localhost:8080/",
          "height": 34
        }
      },
      "source": [
        "print(f\"A média da distribuição dessa distribuição normal é {norm.mean()}\")"
      ],
      "execution_count": 3,
      "outputs": [
        {
          "output_type": "stream",
          "text": [
            "A média da distribuição dessa distribuição normal é 10.0153523773096\n"
          ],
          "name": "stdout"
        }
      ]
    },
    {
      "cell_type": "code",
      "metadata": {
        "id": "J51z-vROX7aB",
        "colab_type": "code",
        "outputId": "43dbfe42-e6c6-4f3c-9225-05880adf97a4",
        "colab": {
          "base_uri": "https://localhost:8080/",
          "height": 34
        }
      },
      "source": [
        "print(f' A variância da distribuição normal é {norm.var()}')"
      ],
      "execution_count": 4,
      "outputs": [
        {
          "output_type": "stream",
          "text": [
            " A variância da distribuição normal é 9.808509532103159\n"
          ],
          "name": "stdout"
        }
      ]
    },
    {
      "cell_type": "code",
      "metadata": {
        "id": "lcj_g0nFYKqS",
        "colab_type": "code",
        "outputId": "97e6d1ea-29f2-44fd-e17f-d810439cc3f7",
        "colab": {
          "base_uri": "https://localhost:8080/",
          "height": 34
        }
      },
      "source": [
        "#Podemos encontrar  P(X <= 8) com a função cdf()\n",
        "\n",
        "sct.norm.cdf(8, loc = 10, scale = 3)"
      ],
      "execution_count": 5,
      "outputs": [
        {
          "output_type": "execute_result",
          "data": {
            "text/plain": [
              "0.2524925375469229"
            ]
          },
          "metadata": {
            "tags": []
          },
          "execution_count": 5
        }
      ]
    },
    {
      "cell_type": "code",
      "metadata": {
        "id": "GORG2y9cYqmw",
        "colab_type": "code",
        "outputId": "71671075-6650-4b5a-dd44-f44929a5d0a2",
        "colab": {
          "base_uri": "https://localhost:8080/",
          "height": 34
        }
      },
      "source": [
        "#Distribuição é simétrica em torno da média, a probabilidade de X assumir um valor menor ou igual a 50% é de 50%\n",
        "sct.norm.cdf(10, loc =10, scale =3)"
      ],
      "execution_count": 6,
      "outputs": [
        {
          "output_type": "execute_result",
          "data": {
            "text/plain": [
              "0.5"
            ]
          },
          "metadata": {
            "tags": []
          },
          "execution_count": 6
        }
      ]
    },
    {
      "cell_type": "code",
      "metadata": {
        "id": "P22LSmgyY5T4",
        "colab_type": "code",
        "outputId": "c3fab327-c4ed-4de9-bfd7-8e18052b952b",
        "colab": {
          "base_uri": "https://localhost:8080/",
          "height": 282
        }
      },
      "source": [
        "# cdf junto com a função linspace() do Numpy para gerar um gráfico da cdf \n",
        "\n",
        "x = np.linspace(0,20, num = 1000)\n",
        "f = lambda x: sct.norm.cdf(x, loc = 10, scale =3)\n",
        "\n",
        "cdf = f(x)\n",
        "\n",
        "sns.lineplot(x, cdf)"
      ],
      "execution_count": 7,
      "outputs": [
        {
          "output_type": "execute_result",
          "data": {
            "text/plain": [
              "<matplotlib.axes._subplots.AxesSubplot at 0x7f38ef003080>"
            ]
          },
          "metadata": {
            "tags": []
          },
          "execution_count": 7
        },
        {
          "output_type": "display_data",
          "data": {
            "image/png": "[encoded data removed]",
            "text/plain": [
              "<Figure size 432x288 with 1 Axes>"
            ]
          },
          "metadata": {
            "tags": [],
            "needs_background": "light"
          }
        }
      ]
    },
    {
      "cell_type": "code",
      "metadata": {
        "id": "eDRJvEr8ZoLH",
        "colab_type": "code",
        "outputId": "9c9255cd-37ac-4ccf-a7f2-6adef1c48adf",
        "colab": {
          "base_uri": "https://localhost:8080/",
          "height": 34
        }
      },
      "source": [
        "#As vezes estamos interessados no complemento da CDF, na probabilidade a partir da outra ponta da distribuição, para isso utilzizamos sf()\n",
        "# P(X>= 8)\n",
        "\n",
        "sct.norm.sf(8, loc = 10, scale =3)"
      ],
      "execution_count": 8,
      "outputs": [
        {
          "output_type": "execute_result",
          "data": {
            "text/plain": [
              "0.7475074624530771"
            ]
          },
          "metadata": {
            "tags": []
          },
          "execution_count": 8
        }
      ]
    },
    {
      "cell_type": "code",
      "metadata": {
        "id": "Zg8awHBUZ1B2",
        "colab_type": "code",
        "outputId": "b3182099-1bf3-4cfc-e258-dac87b50d83d",
        "colab": {
          "base_uri": "https://localhost:8080/",
          "height": 34
        }
      },
      "source": [
        "#Ou..\n",
        "1 - sct.norm.cdf(8, loc = 10, scale = 3)"
      ],
      "execution_count": 9,
      "outputs": [
        {
          "output_type": "execute_result",
          "data": {
            "text/plain": [
              "0.7475074624530771"
            ]
          },
          "metadata": {
            "tags": []
          },
          "execution_count": 9
        }
      ]
    },
    {
      "cell_type": "markdown",
      "metadata": {
        "id": "3GZo6bwX3Nkp",
        "colab_type": "text"
      },
      "source": [
        "\n",
        "Note como esse valor é o complemento da probabilidade encontrado acima com a CDF.\n",
        "\n",
        "Também pode ser útil encontrar o quantil para determinada probabilidade (acumulada a partir da cauda à esquerda). Por exemplo, podemos nos perguntar qual o valor de $X$ que acumula 25% da probabilidade, ou seja, qual valor de $x$ tal que $P(X \\leq x) = 0.25$? Respondemos esse tipo de pergunta com a função ppf():"
      ]
    },
    {
      "cell_type": "code",
      "metadata": {
        "id": "PWwYpr4i3Ssj",
        "colab_type": "code",
        "colab": {
          "base_uri": "https://localhost:8080/",
          "height": 34
        },
        "outputId": "70d03a62-5e44-4eeb-c0e4-265ef73079b7"
      },
      "source": [
        "sct.norm.ppf(0.25, loc = 10, scale = 3)"
      ],
      "execution_count": 11,
      "outputs": [
        {
          "output_type": "execute_result",
          "data": {
            "text/plain": [
              "7.976530749411754"
            ]
          },
          "metadata": {
            "tags": []
          },
          "execution_count": 11
        }
      ]
    },
    {
      "cell_type": "markdown",
      "metadata": {
        "id": "ma-8MPR84EkS",
        "colab_type": "text"
      },
      "source": [
        "\n",
        "Se quiséssemos o saber o quantil para a probabilidade acumulada a partir da cauda à direita, usaríamos a função isf(). Por exemplo, se quisermos encontrar $x$ tal que $P(X \\geq x) = 0.25$:"
      ]
    },
    {
      "cell_type": "code",
      "metadata": {
        "id": "v0vhElGJ4FQZ",
        "colab_type": "code",
        "colab": {
          "base_uri": "https://localhost:8080/",
          "height": 34
        },
        "outputId": "7fff504d-ff43-4108-9884-f25e04b5ad67"
      },
      "source": [
        "sct.norm.isf(0.25, loc = 10, scale = 3)"
      ],
      "execution_count": 14,
      "outputs": [
        {
          "output_type": "execute_result",
          "data": {
            "text/plain": [
              "12.023469250588246"
            ]
          },
          "metadata": {
            "tags": []
          },
          "execution_count": 14
        }
      ]
    },
    {
      "cell_type": "markdown",
      "metadata": {
        "id": "nhkWAf5Y3uSL",
        "colab_type": "text"
      },
      "source": [
        "Por fim, podemos querer saber o valor da função densidade de probabilidade, $f(x)$, em determinado ponto. Apesar de não ser tão útil normalmente (por não ser representar uma probabilidade), ela pode ter seus usos. Para isso, utilizamos a função pdf(). Para acharmos $f(8)$:"
      ]
    },
    {
      "cell_type": "code",
      "metadata": {
        "id": "IKnEhQFb3xRj",
        "colab_type": "code",
        "colab": {
          "base_uri": "https://localhost:8080/",
          "height": 34
        },
        "outputId": "678cc8bc-9dbc-4a13-e17b-cb2e14acfc43"
      },
      "source": [
        "sct.norm.pdf(8, loc=10, scale=3)"
      ],
      "execution_count": 12,
      "outputs": [
        {
          "output_type": "execute_result",
          "data": {
            "text/plain": [
              "0.10648266850745075"
            ]
          },
          "metadata": {
            "tags": []
          },
          "execution_count": 12
        }
      ]
    },
    {
      "cell_type": "markdown",
      "metadata": {
        "id": "t2lRgFyr30vy",
        "colab_type": "text"
      },
      "source": [
        "\n",
        "Na distribuição normal, a função $f(x)$ assume seu valor máximo na média:"
      ]
    },
    {
      "cell_type": "code",
      "metadata": {
        "id": "J1o8CYZc33ui",
        "colab_type": "code",
        "colab": {
          "base_uri": "https://localhost:8080/",
          "height": 34
        },
        "outputId": "a7f373ad-49a6-4cfb-f5fa-6f9ce8e01c4e"
      },
      "source": [
        "sct.norm.pdf(10, loc=10, scale=3)"
      ],
      "execution_count": 20,
      "outputs": [
        {
          "output_type": "execute_result",
          "data": {
            "text/plain": [
              "0.1329807601338109"
            ]
          },
          "metadata": {
            "tags": []
          },
          "execution_count": 20
        }
      ]
    }
  ]
}