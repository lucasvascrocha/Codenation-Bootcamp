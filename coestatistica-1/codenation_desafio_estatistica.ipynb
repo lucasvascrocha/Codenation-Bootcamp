{
  "nbformat": 4,
  "nbformat_minor": 0,
  "metadata": {
    "colab": {
      "name": "codenation_desafio_estatistica.ipynb",
      "provenance": [],
      "collapsed_sections": []
    },
    "kernelspec": {
      "name": "python3",
      "display_name": "Python 3"
    }
  },
  "cells": [
    {
      "cell_type": "code",
      "metadata": {
        "id": "aWwBtQgYuwxk",
        "colab_type": "code",
        "colab": {
          "base_uri": "https://localhost:8080/",
          "height": 71
        },
        "outputId": "52dffe48-7b27-434f-fc59-7c8f6dc79e02"
      },
      "source": [
        "import pandas as pd\n",
        "import numpy as np\n",
        "import matplotlib.pyplot as plt\n",
        "import seaborn as sns\n",
        "from scipy import stats"
      ],
      "execution_count": 1,
      "outputs": [
        {
          "output_type": "stream",
          "text": [
            "/usr/local/lib/python3.6/dist-packages/statsmodels/tools/_testing.py:19: FutureWarning: pandas.util.testing is deprecated. Use the functions in the public API at pandas.testing instead.\n",
            "  import pandas.util.testing as tm\n"
          ],
          "name": "stderr"
        }
      ]
    },
    {
      "cell_type": "code",
      "metadata": {
        "id": "w6XYSfILv4DH",
        "colab_type": "code",
        "colab": {}
      },
      "source": [
        "df = pd.read_csv('/content/desafio1.csv')"
      ],
      "execution_count": 0,
      "outputs": []
    },
    {
      "cell_type": "code",
      "metadata": {
        "id": "UOyUYuQmwBTT",
        "colab_type": "code",
        "colab": {
          "base_uri": "https://localhost:8080/",
          "height": 224
        },
        "outputId": "99f9e13f-90b5-4152-c5a3-7b078e7587be"
      },
      "source": [
        "df.head()"
      ],
      "execution_count": 3,
      "outputs": [
        {
          "output_type": "execute_result",
          "data": {
            "text/html": [
              "<div>\n",
              "<style scoped>\n",
              "    .dataframe tbody tr th:only-of-type {\n",
              "        vertical-align: middle;\n",
              "    }\n",
              "\n",
              "    .dataframe tbody tr th {\n",
              "        vertical-align: top;\n",
              "    }\n",
              "\n",
              "    .dataframe thead th {\n",
              "        text-align: right;\n",
              "    }\n",
              "</style>\n",
              "<table border=\"1\" class=\"dataframe\">\n",
              "  <thead>\n",
              "    <tr style=\"text-align: right;\">\n",
              "      <th></th>\n",
              "      <th>RowNumber</th>\n",
              "      <th>id</th>\n",
              "      <th>sobrenome</th>\n",
              "      <th>pontuacao_credito</th>\n",
              "      <th>estado_residencia</th>\n",
              "      <th>genero</th>\n",
              "      <th>idade</th>\n",
              "      <th>nivel_estabilidade</th>\n",
              "      <th>saldo_conta</th>\n",
              "      <th>numero_produtos</th>\n",
              "      <th>possui_cartao_de_credito</th>\n",
              "      <th>membro_ativo</th>\n",
              "    </tr>\n",
              "  </thead>\n",
              "  <tbody>\n",
              "    <tr>\n",
              "      <th>0</th>\n",
              "      <td>1</td>\n",
              "      <td>e7f44fcbd380d4cef7e6c232cc7e37895c3fd197</td>\n",
              "      <td>6d6e0aa1b9b413e442e2fb68df14b4fc3f91de50</td>\n",
              "      <td>619</td>\n",
              "      <td>SC</td>\n",
              "      <td>F</td>\n",
              "      <td>42</td>\n",
              "      <td>2</td>\n",
              "      <td>0.00</td>\n",
              "      <td>1</td>\n",
              "      <td>1</td>\n",
              "      <td>1</td>\n",
              "    </tr>\n",
              "    <tr>\n",
              "      <th>1</th>\n",
              "      <td>2</td>\n",
              "      <td>28dcb083ad90512da16b9430085c2cddb8ca5e12</td>\n",
              "      <td>48e1ad846796fa314f1b4a6702b83343eb5482c5</td>\n",
              "      <td>608</td>\n",
              "      <td>RS</td>\n",
              "      <td>F</td>\n",
              "      <td>41</td>\n",
              "      <td>1</td>\n",
              "      <td>83807.86</td>\n",
              "      <td>1</td>\n",
              "      <td>0</td>\n",
              "      <td>1</td>\n",
              "    </tr>\n",
              "    <tr>\n",
              "      <th>2</th>\n",
              "      <td>3</td>\n",
              "      <td>774bc378f787438c9c7594e536787d07a097a54b</td>\n",
              "      <td>f2b29d5d934de615812b697132e767dea0f1e9e2</td>\n",
              "      <td>502</td>\n",
              "      <td>SC</td>\n",
              "      <td>F</td>\n",
              "      <td>42</td>\n",
              "      <td>8</td>\n",
              "      <td>159660.80</td>\n",
              "      <td>3</td>\n",
              "      <td>1</td>\n",
              "      <td>0</td>\n",
              "    </tr>\n",
              "    <tr>\n",
              "      <th>3</th>\n",
              "      <td>4</td>\n",
              "      <td>043a71326f7096de155e7f0c559dc62b5e4b7239</td>\n",
              "      <td>85d5c9da7cddd8109ad32a6c348fe2bb10bf99f2</td>\n",
              "      <td>699</td>\n",
              "      <td>SC</td>\n",
              "      <td>F</td>\n",
              "      <td>39</td>\n",
              "      <td>1</td>\n",
              "      <td>0.00</td>\n",
              "      <td>2</td>\n",
              "      <td>0</td>\n",
              "      <td>0</td>\n",
              "    </tr>\n",
              "    <tr>\n",
              "      <th>4</th>\n",
              "      <td>5</td>\n",
              "      <td>37b3bb8ca243955fb3605ec7e1c2a4607cdb3b22</td>\n",
              "      <td>ddc89c837a6933639de75f28171057060bd322df</td>\n",
              "      <td>850</td>\n",
              "      <td>RS</td>\n",
              "      <td>F</td>\n",
              "      <td>43</td>\n",
              "      <td>2</td>\n",
              "      <td>125510.82</td>\n",
              "      <td>1</td>\n",
              "      <td>1</td>\n",
              "      <td>1</td>\n",
              "    </tr>\n",
              "  </tbody>\n",
              "</table>\n",
              "</div>"
            ],
            "text/plain": [
              "   RowNumber  ... membro_ativo\n",
              "0          1  ...            1\n",
              "1          2  ...            1\n",
              "2          3  ...            0\n",
              "3          4  ...            0\n",
              "4          5  ...            1\n",
              "\n",
              "[5 rows x 12 columns]"
            ]
          },
          "metadata": {
            "tags": []
          },
          "execution_count": 3
        }
      ]
    },
    {
      "cell_type": "code",
      "metadata": {
        "id": "Jb_Ad2jBw-f8",
        "colab_type": "code",
        "colab": {
          "base_uri": "https://localhost:8080/",
          "height": 340
        },
        "outputId": "d7084d20-ce80-4557-aead-53b61f03248f"
      },
      "source": [
        "df.info()"
      ],
      "execution_count": 4,
      "outputs": [
        {
          "output_type": "stream",
          "text": [
            "<class 'pandas.core.frame.DataFrame'>\n",
            "RangeIndex: 7000 entries, 0 to 6999\n",
            "Data columns (total 12 columns):\n",
            " #   Column                    Non-Null Count  Dtype  \n",
            "---  ------                    --------------  -----  \n",
            " 0   RowNumber                 7000 non-null   int64  \n",
            " 1   id                        7000 non-null   object \n",
            " 2   sobrenome                 7000 non-null   object \n",
            " 3   pontuacao_credito         7000 non-null   int64  \n",
            " 4   estado_residencia         7000 non-null   object \n",
            " 5   genero                    7000 non-null   object \n",
            " 6   idade                     7000 non-null   int64  \n",
            " 7   nivel_estabilidade        7000 non-null   int64  \n",
            " 8   saldo_conta               7000 non-null   float64\n",
            " 9   numero_produtos           7000 non-null   int64  \n",
            " 10  possui_cartao_de_credito  7000 non-null   int64  \n",
            " 11  membro_ativo              7000 non-null   int64  \n",
            "dtypes: float64(1), int64(7), object(4)\n",
            "memory usage: 656.4+ KB\n"
          ],
          "name": "stdout"
        }
      ]
    },
    {
      "cell_type": "code",
      "metadata": {
        "id": "fq4sr2dXxAaT",
        "colab_type": "code",
        "colab": {
          "base_uri": "https://localhost:8080/",
          "height": 297
        },
        "outputId": "9078250d-2ea2-4a26-8515-4e2238eebe35"
      },
      "source": [
        "df.describe().T"
      ],
      "execution_count": 5,
      "outputs": [
        {
          "output_type": "execute_result",
          "data": {
            "text/html": [
              "<div>\n",
              "<style scoped>\n",
              "    .dataframe tbody tr th:only-of-type {\n",
              "        vertical-align: middle;\n",
              "    }\n",
              "\n",
              "    .dataframe tbody tr th {\n",
              "        vertical-align: top;\n",
              "    }\n",
              "\n",
              "    .dataframe thead th {\n",
              "        text-align: right;\n",
              "    }\n",
              "</style>\n",
              "<table border=\"1\" class=\"dataframe\">\n",
              "  <thead>\n",
              "    <tr style=\"text-align: right;\">\n",
              "      <th></th>\n",
              "      <th>count</th>\n",
              "      <th>mean</th>\n",
              "      <th>std</th>\n",
              "      <th>min</th>\n",
              "      <th>25%</th>\n",
              "      <th>50%</th>\n",
              "      <th>75%</th>\n",
              "      <th>max</th>\n",
              "    </tr>\n",
              "  </thead>\n",
              "  <tbody>\n",
              "    <tr>\n",
              "      <th>RowNumber</th>\n",
              "      <td>7000.0</td>\n",
              "      <td>3500.500000</td>\n",
              "      <td>2020.870275</td>\n",
              "      <td>1.0</td>\n",
              "      <td>1750.75</td>\n",
              "      <td>3500.50</td>\n",
              "      <td>5250.250</td>\n",
              "      <td>7000.00</td>\n",
              "    </tr>\n",
              "    <tr>\n",
              "      <th>pontuacao_credito</th>\n",
              "      <td>7000.0</td>\n",
              "      <td>649.787000</td>\n",
              "      <td>97.046279</td>\n",
              "      <td>350.0</td>\n",
              "      <td>582.00</td>\n",
              "      <td>651.00</td>\n",
              "      <td>717.000</td>\n",
              "      <td>850.00</td>\n",
              "    </tr>\n",
              "    <tr>\n",
              "      <th>idade</th>\n",
              "      <td>7000.0</td>\n",
              "      <td>38.892714</td>\n",
              "      <td>10.465562</td>\n",
              "      <td>18.0</td>\n",
              "      <td>32.00</td>\n",
              "      <td>37.00</td>\n",
              "      <td>44.000</td>\n",
              "      <td>92.00</td>\n",
              "    </tr>\n",
              "    <tr>\n",
              "      <th>nivel_estabilidade</th>\n",
              "      <td>7000.0</td>\n",
              "      <td>5.010286</td>\n",
              "      <td>2.887500</td>\n",
              "      <td>0.0</td>\n",
              "      <td>3.00</td>\n",
              "      <td>5.00</td>\n",
              "      <td>7.250</td>\n",
              "      <td>10.00</td>\n",
              "    </tr>\n",
              "    <tr>\n",
              "      <th>saldo_conta</th>\n",
              "      <td>7000.0</td>\n",
              "      <td>76471.883751</td>\n",
              "      <td>62403.383911</td>\n",
              "      <td>0.0</td>\n",
              "      <td>0.00</td>\n",
              "      <td>97277.13</td>\n",
              "      <td>127537.155</td>\n",
              "      <td>250898.09</td>\n",
              "    </tr>\n",
              "    <tr>\n",
              "      <th>numero_produtos</th>\n",
              "      <td>7000.0</td>\n",
              "      <td>1.526000</td>\n",
              "      <td>0.583047</td>\n",
              "      <td>1.0</td>\n",
              "      <td>1.00</td>\n",
              "      <td>1.00</td>\n",
              "      <td>2.000</td>\n",
              "      <td>4.00</td>\n",
              "    </tr>\n",
              "    <tr>\n",
              "      <th>possui_cartao_de_credito</th>\n",
              "      <td>7000.0</td>\n",
              "      <td>0.703286</td>\n",
              "      <td>0.456842</td>\n",
              "      <td>0.0</td>\n",
              "      <td>0.00</td>\n",
              "      <td>1.00</td>\n",
              "      <td>1.000</td>\n",
              "      <td>1.00</td>\n",
              "    </tr>\n",
              "    <tr>\n",
              "      <th>membro_ativo</th>\n",
              "      <td>7000.0</td>\n",
              "      <td>0.512143</td>\n",
              "      <td>0.499888</td>\n",
              "      <td>0.0</td>\n",
              "      <td>0.00</td>\n",
              "      <td>1.00</td>\n",
              "      <td>1.000</td>\n",
              "      <td>1.00</td>\n",
              "    </tr>\n",
              "  </tbody>\n",
              "</table>\n",
              "</div>"
            ],
            "text/plain": [
              "                           count          mean  ...         75%        max\n",
              "RowNumber                 7000.0   3500.500000  ...    5250.250    7000.00\n",
              "pontuacao_credito         7000.0    649.787000  ...     717.000     850.00\n",
              "idade                     7000.0     38.892714  ...      44.000      92.00\n",
              "nivel_estabilidade        7000.0      5.010286  ...       7.250      10.00\n",
              "saldo_conta               7000.0  76471.883751  ...  127537.155  250898.09\n",
              "numero_produtos           7000.0      1.526000  ...       2.000       4.00\n",
              "possui_cartao_de_credito  7000.0      0.703286  ...       1.000       1.00\n",
              "membro_ativo              7000.0      0.512143  ...       1.000       1.00\n",
              "\n",
              "[8 rows x 8 columns]"
            ]
          },
          "metadata": {
            "tags": []
          },
          "execution_count": 5
        }
      ]
    },
    {
      "cell_type": "markdown",
      "metadata": {
        "id": "7TbTdFg8yI97",
        "colab_type": "text"
      },
      "source": [
        "1. A idade reflete na pontuação de crédito do cliente\n",
        "2. Idade reflete no nível de estabilidade do cliente\n",
        "3. Quanto maior a pontuação maior o saldo em conta\n",
        "4. Possuir cartão de crédito infere no nível de estabilidade\n"
      ]
    },
    {
      "cell_type": "markdown",
      "metadata": {
        "id": "4nI8vpWkyset",
        "colab_type": "text"
      },
      "source": [
        "1. A idade reflete na pontuação de cŕedito do cliente"
      ]
    },
    {
      "cell_type": "code",
      "metadata": {
        "id": "V4t-QTy2x2RK",
        "colab_type": "code",
        "colab": {}
      },
      "source": [
        "def process_age(df, cut_points,labels):\n",
        "  df['Categorias_Idades'] = pd.cut(df['idade'], cut_points, labels = labels)\n",
        "  return df \n",
        "\n",
        "cut_points = [18,25,35,40,60,100]\n",
        "labels = ['Jovem Adulto', 'Adultez Plena', 'Adultez final', 'Meia Idade', 'Idoso']\n",
        "\n",
        "df = process_age(df,cut_points,labels)\n",
        "\n"
      ],
      "execution_count": 0,
      "outputs": []
    },
    {
      "cell_type": "code",
      "metadata": {
        "id": "-OUNAFeK2Ch6",
        "colab_type": "code",
        "colab": {
          "base_uri": "https://localhost:8080/",
          "height": 34
        },
        "outputId": "d4c62ea8-8065-43a1-ec7a-ce6a2247c8b3"
      },
      "source": [
        "df[df['Categorias_Idades'] == 'Jovem Adulto']['pontuacao_credito'].mean()"
      ],
      "execution_count": 7,
      "outputs": [
        {
          "output_type": "execute_result",
          "data": {
            "text/plain": [
              "652.4530516431925"
            ]
          },
          "metadata": {
            "tags": []
          },
          "execution_count": 7
        }
      ]
    },
    {
      "cell_type": "code",
      "metadata": {
        "id": "UW4Iobr52ebV",
        "colab_type": "code",
        "colab": {
          "base_uri": "https://localhost:8080/",
          "height": 34
        },
        "outputId": "3ec9246c-f2c6-4177-f1f6-6f9d3999baf7"
      },
      "source": [
        "df[df['Categorias_Idades'] == 'Adultez Plena']['pontuacao_credito'].mean()"
      ],
      "execution_count": 8,
      "outputs": [
        {
          "output_type": "execute_result",
          "data": {
            "text/plain": [
              "648.2604124545087"
            ]
          },
          "metadata": {
            "tags": []
          },
          "execution_count": 8
        }
      ]
    },
    {
      "cell_type": "code",
      "metadata": {
        "id": "R4qahJR724Av",
        "colab_type": "code",
        "colab": {
          "base_uri": "https://localhost:8080/",
          "height": 34
        },
        "outputId": "12bfa3b1-fec1-4edf-a44e-24db5e310e4a"
      },
      "source": [
        "df[df['Categorias_Idades'] == 'Adultez final']['pontuacao_credito'].mean()"
      ],
      "execution_count": 9,
      "outputs": [
        {
          "output_type": "execute_result",
          "data": {
            "text/plain": [
              "652.4694533762058"
            ]
          },
          "metadata": {
            "tags": []
          },
          "execution_count": 9
        }
      ]
    },
    {
      "cell_type": "code",
      "metadata": {
        "id": "GQl_-K7u2_Ps",
        "colab_type": "code",
        "colab": {
          "base_uri": "https://localhost:8080/",
          "height": 34
        },
        "outputId": "c300cd02-3d59-4d2e-a143-83ff2896561a"
      },
      "source": [
        "df[df['Categorias_Idades'] == 'Meia Idade']['pontuacao_credito'].mean()"
      ],
      "execution_count": 10,
      "outputs": [
        {
          "output_type": "execute_result",
          "data": {
            "text/plain": [
              "648.6132671480144"
            ]
          },
          "metadata": {
            "tags": []
          },
          "execution_count": 10
        }
      ]
    },
    {
      "cell_type": "code",
      "metadata": {
        "id": "pdlHFg3x3C-O",
        "colab_type": "code",
        "colab": {
          "base_uri": "https://localhost:8080/",
          "height": 34
        },
        "outputId": "c342a142-f598-47aa-c986-7ca9cafbaa86"
      },
      "source": [
        "df[df['Categorias_Idades'] == 'Idoso']['pontuacao_credito'].mean()"
      ],
      "execution_count": 11,
      "outputs": [
        {
          "output_type": "execute_result",
          "data": {
            "text/plain": [
              "650.8301886792453"
            ]
          },
          "metadata": {
            "tags": []
          },
          "execution_count": 11
        }
      ]
    },
    {
      "cell_type": "code",
      "metadata": {
        "id": "wGWyYN_a1Len",
        "colab_type": "code",
        "colab": {
          "base_uri": "https://localhost:8080/",
          "height": 235
        },
        "outputId": "2a1f6180-657a-4f62-f6b0-25354657e3f2"
      },
      "source": [
        "pivot_table = df.pivot_table(index = 'Categorias_Idades', values = 'pontuacao_credito', aggfunc= np.mean)\n",
        "pivot_table\n"
      ],
      "execution_count": 12,
      "outputs": [
        {
          "output_type": "execute_result",
          "data": {
            "text/html": [
              "<div>\n",
              "<style scoped>\n",
              "    .dataframe tbody tr th:only-of-type {\n",
              "        vertical-align: middle;\n",
              "    }\n",
              "\n",
              "    .dataframe tbody tr th {\n",
              "        vertical-align: top;\n",
              "    }\n",
              "\n",
              "    .dataframe thead th {\n",
              "        text-align: right;\n",
              "    }\n",
              "</style>\n",
              "<table border=\"1\" class=\"dataframe\">\n",
              "  <thead>\n",
              "    <tr style=\"text-align: right;\">\n",
              "      <th></th>\n",
              "      <th>pontuacao_credito</th>\n",
              "    </tr>\n",
              "    <tr>\n",
              "      <th>Categorias_Idades</th>\n",
              "      <th></th>\n",
              "    </tr>\n",
              "  </thead>\n",
              "  <tbody>\n",
              "    <tr>\n",
              "      <th>Jovem Adulto</th>\n",
              "      <td>652.453052</td>\n",
              "    </tr>\n",
              "    <tr>\n",
              "      <th>Adultez Plena</th>\n",
              "      <td>648.260412</td>\n",
              "    </tr>\n",
              "    <tr>\n",
              "      <th>Adultez final</th>\n",
              "      <td>652.469453</td>\n",
              "    </tr>\n",
              "    <tr>\n",
              "      <th>Meia Idade</th>\n",
              "      <td>648.613267</td>\n",
              "    </tr>\n",
              "    <tr>\n",
              "      <th>Idoso</th>\n",
              "      <td>650.830189</td>\n",
              "    </tr>\n",
              "  </tbody>\n",
              "</table>\n",
              "</div>"
            ],
            "text/plain": [
              "                   pontuacao_credito\n",
              "Categorias_Idades                   \n",
              "Jovem Adulto              652.453052\n",
              "Adultez Plena             648.260412\n",
              "Adultez final             652.469453\n",
              "Meia Idade                648.613267\n",
              "Idoso                     650.830189"
            ]
          },
          "metadata": {
            "tags": []
          },
          "execution_count": 12
        }
      ]
    },
    {
      "cell_type": "markdown",
      "metadata": {
        "id": "DE3j41al4bQu",
        "colab_type": "text"
      },
      "source": [
        "Logo percebemos que em média, pessoas que se concentram entre 35-40 anos são pessoas que possuem tendência de terem melhores pontuações."
      ]
    },
    {
      "cell_type": "markdown",
      "metadata": {
        "id": "ZFcImADk5G32",
        "colab_type": "text"
      },
      "source": [
        "2.Idade reflete no nível de estabilidade do cliente"
      ]
    },
    {
      "cell_type": "code",
      "metadata": {
        "id": "WUjihkAA5DJA",
        "colab_type": "code",
        "colab": {
          "base_uri": "https://localhost:8080/",
          "height": 513
        },
        "outputId": "6a14580c-428b-4d03-d19c-1240b82dc891"
      },
      "source": [
        "plt.figure(figsize = (12,8))\n",
        "sns.barplot(x = 'Categorias_Idades', y = 'nivel_estabilidade', data = df)\n",
        "plt.xlabel('Idades divididas em Categorias')\n",
        "plt.ylabel('Estabilidade')\n",
        "plt.title('Idades por Categorias')\n",
        "plt.show()"
      ],
      "execution_count": 13,
      "outputs": [
        {
          "output_type": "display_data",
          "data": {
            "image/png": "[encoded data removed]",
            "text/plain": [
              "<Figure size 864x576 with 1 Axes>"
            ]
          },
          "metadata": {
            "tags": [],
            "needs_background": "light"
          }
        }
      ]
    },
    {
      "cell_type": "markdown",
      "metadata": {
        "id": "qgFsCIWM6j4a",
        "colab_type": "text"
      },
      "source": [
        "Percebemos que a categoria que apresenta maior estabilidade são os Jovens adultos, isso pode ser reflexo de ser uma categoria que esta entrando no mercado de trabalho agora e que estão começando a realizar seus primeiros gastos."
      ]
    },
    {
      "cell_type": "markdown",
      "metadata": {
        "id": "hTu_aZSI7X7k",
        "colab_type": "text"
      },
      "source": [
        "3. Quanto maior a pontuação maior o saldo em conta\n"
      ]
    },
    {
      "cell_type": "code",
      "metadata": {
        "id": "9YXHVTBn7wGR",
        "colab_type": "code",
        "colab": {
          "base_uri": "https://localhost:8080/",
          "height": 498
        },
        "outputId": "4c44b48c-a3be-430c-b188-e15cfedf82a2"
      },
      "source": [
        "plt.figure(figsize = (12,8))\n",
        "sns.scatterplot(x = 'pontuacao_credito', y = 'saldo_conta', data = df, alpha = 0.3)\n",
        "plt.show()"
      ],
      "execution_count": 14,
      "outputs": [
        {
          "output_type": "display_data",
          "data": {
            "image/png": "[encoded data removed]",
            "text/plain": [
              "<Figure size 864x576 with 1 Axes>"
            ]
          },
          "metadata": {
            "tags": [],
            "needs_background": "light"
          }
        }
      ]
    },
    {
      "cell_type": "markdown",
      "metadata": {
        "id": "i9xS4Pko8kby",
        "colab_type": "text"
      },
      "source": [
        "Podemos perceber que não possui nenhuma correlação entre pontuação de credito quanto em relação ao saldo em conta."
      ]
    },
    {
      "cell_type": "markdown",
      "metadata": {
        "id": "4GnlkfEl81tl",
        "colab_type": "text"
      },
      "source": [
        "4. Possuir cartão de crédito infere no nível de estabilidade"
      ]
    },
    {
      "cell_type": "code",
      "metadata": {
        "id": "hd-vWH9684C-",
        "colab_type": "code",
        "colab": {
          "base_uri": "https://localhost:8080/",
          "height": 297
        },
        "outputId": "360b275c-a3b1-444e-b4e9-3075b9b7d617"
      },
      "source": [
        "sns.barplot(x = 'possui_cartao_de_credito', y= 'nivel_estabilidade', data = df)"
      ],
      "execution_count": 15,
      "outputs": [
        {
          "output_type": "execute_result",
          "data": {
            "text/plain": [
              "<matplotlib.axes._subplots.AxesSubplot at 0x7ff7e03cdcc0>"
            ]
          },
          "metadata": {
            "tags": []
          },
          "execution_count": 15
        },
        {
          "output_type": "display_data",
          "data": {
            "image/png": "[encoded data removed]",
            "text/plain": [
              "<Figure size 432x288 with 1 Axes>"
            ]
          },
          "metadata": {
            "tags": [],
            "needs_background": "light"
          }
        }
      ]
    },
    {
      "cell_type": "markdown",
      "metadata": {
        "id": "X1vJ3x0A9HS1",
        "colab_type": "text"
      },
      "source": [
        "é perceptivel notar que, usuários que possuiem cartão de crédito possuem maiores níveis de creditibilidade do que usuários que não tem.\n"
      ]
    },
    {
      "cell_type": "markdown",
      "metadata": {
        "id": "FZ8BNXOA-_62",
        "colab_type": "text"
      },
      "source": [
        "Agora, vamos analise para a soluções!"
      ]
    },
    {
      "cell_type": "markdown",
      "metadata": {
        "id": "viQ-MNt1TnxP",
        "colab_type": "text"
      },
      "source": [
        "#Solução usando o Stats.mode"
      ]
    },
    {
      "cell_type": "code",
      "metadata": {
        "id": "f3EJKMLIEQSE",
        "colab_type": "code",
        "colab": {}
      },
      "source": [
        "pontuacao_estados = df.groupby('estado_residencia').agg({'pontuacao_credito': [stats.mode,np.median, np.mean, np.std]})"
      ],
      "execution_count": 0,
      "outputs": []
    },
    {
      "cell_type": "code",
      "metadata": {
        "id": "lEJzf0dmMorb",
        "colab_type": "code",
        "colab": {}
      },
      "source": [
        "pontuacao_estados.columns = [\n",
        "  'moda', 'mediana', 'media', 'desvio_padrao'\n",
        "]"
      ],
      "execution_count": 0,
      "outputs": []
    },
    {
      "cell_type": "code",
      "metadata": {
        "id": "dJ_czgICT95f",
        "colab_type": "code",
        "colab": {
          "base_uri": "https://localhost:8080/",
          "height": 173
        },
        "outputId": "186967bd-6f90-4ca4-ceb2-830470a44238"
      },
      "source": [
        "pontuacao_estados"
      ],
      "execution_count": 18,
      "outputs": [
        {
          "output_type": "execute_result",
          "data": {
            "text/html": [
              "<div>\n",
              "<style scoped>\n",
              "    .dataframe tbody tr th:only-of-type {\n",
              "        vertical-align: middle;\n",
              "    }\n",
              "\n",
              "    .dataframe tbody tr th {\n",
              "        vertical-align: top;\n",
              "    }\n",
              "\n",
              "    .dataframe thead th {\n",
              "        text-align: right;\n",
              "    }\n",
              "</style>\n",
              "<table border=\"1\" class=\"dataframe\">\n",
              "  <thead>\n",
              "    <tr style=\"text-align: right;\">\n",
              "      <th></th>\n",
              "      <th>moda</th>\n",
              "      <th>mediana</th>\n",
              "      <th>media</th>\n",
              "      <th>desvio_padrao</th>\n",
              "    </tr>\n",
              "    <tr>\n",
              "      <th>estado_residencia</th>\n",
              "      <th></th>\n",
              "      <th></th>\n",
              "      <th></th>\n",
              "      <th></th>\n",
              "    </tr>\n",
              "  </thead>\n",
              "  <tbody>\n",
              "    <tr>\n",
              "      <th>PR</th>\n",
              "      <td>([850], [47])</td>\n",
              "      <td>650</td>\n",
              "      <td>648.961294</td>\n",
              "      <td>98.607186</td>\n",
              "    </tr>\n",
              "    <tr>\n",
              "      <th>RS</th>\n",
              "      <td>([850], [42])</td>\n",
              "      <td>650</td>\n",
              "      <td>651.105143</td>\n",
              "      <td>95.136598</td>\n",
              "    </tr>\n",
              "    <tr>\n",
              "      <th>SC</th>\n",
              "      <td>([850], [78])</td>\n",
              "      <td>653</td>\n",
              "      <td>649.537653</td>\n",
              "      <td>97.233493</td>\n",
              "    </tr>\n",
              "  </tbody>\n",
              "</table>\n",
              "</div>"
            ],
            "text/plain": [
              "                            moda  mediana       media  desvio_padrao\n",
              "estado_residencia                                                   \n",
              "PR                 ([850], [47])      650  648.961294      98.607186\n",
              "RS                 ([850], [42])      650  651.105143      95.136598\n",
              "SC                 ([850], [78])      653  649.537653      97.233493"
            ]
          },
          "metadata": {
            "tags": []
          },
          "execution_count": 18
        }
      ]
    },
    {
      "cell_type": "code",
      "metadata": {
        "id": "zUgLDUClNAYv",
        "colab_type": "code",
        "colab": {}
      },
      "source": [
        "def extrai_moda(val):\n",
        "  result = val.mode.tolist()[0]\n",
        "  return result\n",
        "\n",
        "pontuacao_estados['moda'] = pontuacao_estados['moda'].apply(extrai_moda)"
      ],
      "execution_count": 0,
      "outputs": []
    },
    {
      "cell_type": "code",
      "metadata": {
        "id": "f8TDMiNbQ0HU",
        "colab_type": "code",
        "colab": {
          "base_uri": "https://localhost:8080/",
          "height": 173
        },
        "outputId": "416ddfb0-0120-44fa-eb94-e04b10bd71fd"
      },
      "source": [
        "result = pontuacao_estados \n",
        "result"
      ],
      "execution_count": 20,
      "outputs": [
        {
          "output_type": "execute_result",
          "data": {
            "text/html": [
              "<div>\n",
              "<style scoped>\n",
              "    .dataframe tbody tr th:only-of-type {\n",
              "        vertical-align: middle;\n",
              "    }\n",
              "\n",
              "    .dataframe tbody tr th {\n",
              "        vertical-align: top;\n",
              "    }\n",
              "\n",
              "    .dataframe thead th {\n",
              "        text-align: right;\n",
              "    }\n",
              "</style>\n",
              "<table border=\"1\" class=\"dataframe\">\n",
              "  <thead>\n",
              "    <tr style=\"text-align: right;\">\n",
              "      <th></th>\n",
              "      <th>moda</th>\n",
              "      <th>mediana</th>\n",
              "      <th>media</th>\n",
              "      <th>desvio_padrao</th>\n",
              "    </tr>\n",
              "    <tr>\n",
              "      <th>estado_residencia</th>\n",
              "      <th></th>\n",
              "      <th></th>\n",
              "      <th></th>\n",
              "      <th></th>\n",
              "    </tr>\n",
              "  </thead>\n",
              "  <tbody>\n",
              "    <tr>\n",
              "      <th>PR</th>\n",
              "      <td>850</td>\n",
              "      <td>650</td>\n",
              "      <td>648.961294</td>\n",
              "      <td>98.607186</td>\n",
              "    </tr>\n",
              "    <tr>\n",
              "      <th>RS</th>\n",
              "      <td>850</td>\n",
              "      <td>650</td>\n",
              "      <td>651.105143</td>\n",
              "      <td>95.136598</td>\n",
              "    </tr>\n",
              "    <tr>\n",
              "      <th>SC</th>\n",
              "      <td>850</td>\n",
              "      <td>653</td>\n",
              "      <td>649.537653</td>\n",
              "      <td>97.233493</td>\n",
              "    </tr>\n",
              "  </tbody>\n",
              "</table>\n",
              "</div>"
            ],
            "text/plain": [
              "                   moda  mediana       media  desvio_padrao\n",
              "estado_residencia                                          \n",
              "PR                  850      650  648.961294      98.607186\n",
              "RS                  850      650  651.105143      95.136598\n",
              "SC                  850      653  649.537653      97.233493"
            ]
          },
          "metadata": {
            "tags": []
          },
          "execution_count": 20
        }
      ]
    },
    {
      "cell_type": "code",
      "metadata": {
        "id": "0FAuaUz9OiLe",
        "colab_type": "code",
        "colab": {}
      },
      "source": [
        "result.to_json('submission.json',orient = 'index')"
      ],
      "execution_count": 0,
      "outputs": []
    },
    {
      "cell_type": "code",
      "metadata": {
        "id": "z2AEg_SrOr8V",
        "colab_type": "code",
        "colab": {
          "base_uri": "https://localhost:8080/",
          "height": 173
        },
        "outputId": "f73cfe11-6763-4d6b-a514-327c90f6ebfc"
      },
      "source": [
        "pd.read_json('/content/submission.json')"
      ],
      "execution_count": 22,
      "outputs": [
        {
          "output_type": "execute_result",
          "data": {
            "text/html": [
              "<div>\n",
              "<style scoped>\n",
              "    .dataframe tbody tr th:only-of-type {\n",
              "        vertical-align: middle;\n",
              "    }\n",
              "\n",
              "    .dataframe tbody tr th {\n",
              "        vertical-align: top;\n",
              "    }\n",
              "\n",
              "    .dataframe thead th {\n",
              "        text-align: right;\n",
              "    }\n",
              "</style>\n",
              "<table border=\"1\" class=\"dataframe\">\n",
              "  <thead>\n",
              "    <tr style=\"text-align: right;\">\n",
              "      <th></th>\n",
              "      <th>PR</th>\n",
              "      <th>RS</th>\n",
              "      <th>SC</th>\n",
              "    </tr>\n",
              "  </thead>\n",
              "  <tbody>\n",
              "    <tr>\n",
              "      <th>moda</th>\n",
              "      <td>850.000000</td>\n",
              "      <td>850.000000</td>\n",
              "      <td>850.000000</td>\n",
              "    </tr>\n",
              "    <tr>\n",
              "      <th>mediana</th>\n",
              "      <td>650.000000</td>\n",
              "      <td>650.000000</td>\n",
              "      <td>653.000000</td>\n",
              "    </tr>\n",
              "    <tr>\n",
              "      <th>media</th>\n",
              "      <td>648.961294</td>\n",
              "      <td>651.105143</td>\n",
              "      <td>649.537653</td>\n",
              "    </tr>\n",
              "    <tr>\n",
              "      <th>desvio_padrao</th>\n",
              "      <td>98.607186</td>\n",
              "      <td>95.136598</td>\n",
              "      <td>97.233493</td>\n",
              "    </tr>\n",
              "  </tbody>\n",
              "</table>\n",
              "</div>"
            ],
            "text/plain": [
              "                       PR          RS          SC\n",
              "moda           850.000000  850.000000  850.000000\n",
              "mediana        650.000000  650.000000  653.000000\n",
              "media          648.961294  651.105143  649.537653\n",
              "desvio_padrao   98.607186   95.136598   97.233493"
            ]
          },
          "metadata": {
            "tags": []
          },
          "execution_count": 22
        }
      ]
    },
    {
      "cell_type": "markdown",
      "metadata": {
        "id": "LwuOV4_eUpOL",
        "colab_type": "text"
      },
      "source": [
        "# Solução usando Pd.Series.mode"
      ]
    },
    {
      "cell_type": "code",
      "metadata": {
        "id": "bn5gt8tpUstv",
        "colab_type": "code",
        "colab": {
          "base_uri": "https://localhost:8080/",
          "height": 173
        },
        "outputId": "fd8cbda9-0474-446c-a7fe-7adac63b2cc7"
      },
      "source": [
        "pontuacao_estados = df.groupby('estado_residencia').agg({'pontuacao_credito': [pd.Series.mode,np.median, np.mean, np.std]})\n",
        "pontuacao_estados.columns = [\n",
        "  'moda', 'mediana', 'media', 'desvio_padrao'\n",
        "]\n",
        "pontuacao_estados"
      ],
      "execution_count": 23,
      "outputs": [
        {
          "output_type": "execute_result",
          "data": {
            "text/html": [
              "<div>\n",
              "<style scoped>\n",
              "    .dataframe tbody tr th:only-of-type {\n",
              "        vertical-align: middle;\n",
              "    }\n",
              "\n",
              "    .dataframe tbody tr th {\n",
              "        vertical-align: top;\n",
              "    }\n",
              "\n",
              "    .dataframe thead th {\n",
              "        text-align: right;\n",
              "    }\n",
              "</style>\n",
              "<table border=\"1\" class=\"dataframe\">\n",
              "  <thead>\n",
              "    <tr style=\"text-align: right;\">\n",
              "      <th></th>\n",
              "      <th>moda</th>\n",
              "      <th>mediana</th>\n",
              "      <th>media</th>\n",
              "      <th>desvio_padrao</th>\n",
              "    </tr>\n",
              "    <tr>\n",
              "      <th>estado_residencia</th>\n",
              "      <th></th>\n",
              "      <th></th>\n",
              "      <th></th>\n",
              "      <th></th>\n",
              "    </tr>\n",
              "  </thead>\n",
              "  <tbody>\n",
              "    <tr>\n",
              "      <th>PR</th>\n",
              "      <td>850</td>\n",
              "      <td>650</td>\n",
              "      <td>648.961294</td>\n",
              "      <td>98.607186</td>\n",
              "    </tr>\n",
              "    <tr>\n",
              "      <th>RS</th>\n",
              "      <td>850</td>\n",
              "      <td>650</td>\n",
              "      <td>651.105143</td>\n",
              "      <td>95.136598</td>\n",
              "    </tr>\n",
              "    <tr>\n",
              "      <th>SC</th>\n",
              "      <td>850</td>\n",
              "      <td>653</td>\n",
              "      <td>649.537653</td>\n",
              "      <td>97.233493</td>\n",
              "    </tr>\n",
              "  </tbody>\n",
              "</table>\n",
              "</div>"
            ],
            "text/plain": [
              "                   moda  mediana       media  desvio_padrao\n",
              "estado_residencia                                          \n",
              "PR                  850      650  648.961294      98.607186\n",
              "RS                  850      650  651.105143      95.136598\n",
              "SC                  850      653  649.537653      97.233493"
            ]
          },
          "metadata": {
            "tags": []
          },
          "execution_count": 23
        }
      ]
    },
    {
      "cell_type": "code",
      "metadata": {
        "id": "y8ofBgm4U-Zd",
        "colab_type": "code",
        "colab": {}
      },
      "source": [
        "result = pontuacao_estados\n",
        "result.to_json('submission.json',orient = 'index')"
      ],
      "execution_count": 0,
      "outputs": []
    },
    {
      "cell_type": "code",
      "metadata": {
        "id": "MfDujVJMVDo1",
        "colab_type": "code",
        "colab": {
          "base_uri": "https://localhost:8080/",
          "height": 142
        },
        "outputId": "4c75f4e7-086a-4988-aeaa-973585b33ebc"
      },
      "source": [
        "pd.read_json('/content/submission.json')"
      ],
      "execution_count": 28,
      "outputs": [
        {
          "output_type": "execute_result",
          "data": {
            "text/html": [
              "<div>\n",
              "<style scoped>\n",
              "    .dataframe tbody tr th:only-of-type {\n",
              "        vertical-align: middle;\n",
              "    }\n",
              "\n",
              "    .dataframe tbody tr th {\n",
              "        vertical-align: top;\n",
              "    }\n",
              "\n",
              "    .dataframe thead th {\n",
              "        text-align: right;\n",
              "    }\n",
              "</style>\n",
              "<table border=\"1\" class=\"dataframe\">\n",
              "  <thead>\n",
              "    <tr style=\"text-align: right;\">\n",
              "      <th></th>\n",
              "      <th>moda</th>\n",
              "      <th>mediana</th>\n",
              "      <th>media</th>\n",
              "      <th>desvio_padrao</th>\n",
              "    </tr>\n",
              "  </thead>\n",
              "  <tbody>\n",
              "    <tr>\n",
              "      <th>PR</th>\n",
              "      <td>850</td>\n",
              "      <td>650</td>\n",
              "      <td>648.961294</td>\n",
              "      <td>98.607186</td>\n",
              "    </tr>\n",
              "    <tr>\n",
              "      <th>RS</th>\n",
              "      <td>850</td>\n",
              "      <td>650</td>\n",
              "      <td>651.105143</td>\n",
              "      <td>95.136598</td>\n",
              "    </tr>\n",
              "    <tr>\n",
              "      <th>SC</th>\n",
              "      <td>850</td>\n",
              "      <td>653</td>\n",
              "      <td>649.537653</td>\n",
              "      <td>97.233493</td>\n",
              "    </tr>\n",
              "  </tbody>\n",
              "</table>\n",
              "</div>"
            ],
            "text/plain": [
              "    moda  mediana       media  desvio_padrao\n",
              "PR   850      650  648.961294      98.607186\n",
              "RS   850      650  651.105143      95.136598\n",
              "SC   850      653  649.537653      97.233493"
            ]
          },
          "metadata": {
            "tags": []
          },
          "execution_count": 28
        }
      ]
    }
  ]
}